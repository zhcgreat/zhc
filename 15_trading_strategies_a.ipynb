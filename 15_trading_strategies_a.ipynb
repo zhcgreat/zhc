{
 "cells": [
  {
   "cell_type": "markdown",
   "metadata": {},
   "source": [
    "# Trading Strategies (a)"
   ]
  },
  {
   "cell_type": "markdown",
   "metadata": {},
   "source": [
    "## Simple Moving Averages"
   ]
  },
  {
   "cell_type": "markdown",
   "metadata": {},
   "source": [
    "### Data Import"
   ]
  },
  {
   "cell_type": "code",
   "execution_count": 3,
   "metadata": {},
   "outputs": [],
   "source": [
    "import numpy as np\n",
    "import pandas as pd\n",
    "import datetime as dt\n",
    "import matplotlib as mpl\n",
    "import matplotlib.pyplot as plt"
   ]
  },
  {
   "cell_type": "code",
   "execution_count": 4,
   "metadata": {},
   "outputs": [],
   "source": [
    "plt.style.use('seaborn')\n",
    "mpl.rcParams['font.family'] = 'serif'\n",
    "%matplotlib inline"
   ]
  },
  {
   "cell_type": "code",
   "execution_count": 7,
   "metadata": {},
   "outputs": [],
   "source": [
    "raw = pd.read_csv('http://hilpisch.com/tr_eikon_eod_data.csv',\n",
    "                  index_col=0, parse_dates=True)"
   ]
  },
  {
   "cell_type": "code",
   "execution_count": 19,
   "metadata": {},
   "outputs": [
    {
     "data": {
      "text/html": [
       "<div>\n",
       "<style scoped>\n",
       "    .dataframe tbody tr th:only-of-type {\n",
       "        vertical-align: middle;\n",
       "    }\n",
       "\n",
       "    .dataframe tbody tr th {\n",
       "        vertical-align: top;\n",
       "    }\n",
       "\n",
       "    .dataframe thead th {\n",
       "        text-align: right;\n",
       "    }\n",
       "</style>\n",
       "<table border=\"1\" class=\"dataframe\">\n",
       "  <thead>\n",
       "    <tr style=\"text-align: right;\">\n",
       "      <th></th>\n",
       "      <th>AAPL.O</th>\n",
       "      <th>MSFT.O</th>\n",
       "      <th>INTC.O</th>\n",
       "      <th>AMZN.O</th>\n",
       "      <th>GS.N</th>\n",
       "      <th>SPY</th>\n",
       "      <th>.SPX</th>\n",
       "      <th>.VIX</th>\n",
       "      <th>EUR=</th>\n",
       "      <th>XAU=</th>\n",
       "      <th>GDX</th>\n",
       "      <th>GLD</th>\n",
       "    </tr>\n",
       "    <tr>\n",
       "      <th>Date</th>\n",
       "      <th></th>\n",
       "      <th></th>\n",
       "      <th></th>\n",
       "      <th></th>\n",
       "      <th></th>\n",
       "      <th></th>\n",
       "      <th></th>\n",
       "      <th></th>\n",
       "      <th></th>\n",
       "      <th></th>\n",
       "      <th></th>\n",
       "      <th></th>\n",
       "    </tr>\n",
       "  </thead>\n",
       "  <tbody>\n",
       "    <tr>\n",
       "      <th>2010-01-01</th>\n",
       "      <td>NaN</td>\n",
       "      <td>NaN</td>\n",
       "      <td>NaN</td>\n",
       "      <td>NaN</td>\n",
       "      <td>NaN</td>\n",
       "      <td>NaN</td>\n",
       "      <td>NaN</td>\n",
       "      <td>NaN</td>\n",
       "      <td>1.4323</td>\n",
       "      <td>1096.35</td>\n",
       "      <td>NaN</td>\n",
       "      <td>NaN</td>\n",
       "    </tr>\n",
       "    <tr>\n",
       "      <th>2010-01-04</th>\n",
       "      <td>30.572827</td>\n",
       "      <td>30.950</td>\n",
       "      <td>20.88</td>\n",
       "      <td>133.90</td>\n",
       "      <td>173.08</td>\n",
       "      <td>113.33</td>\n",
       "      <td>1132.99</td>\n",
       "      <td>20.04</td>\n",
       "      <td>1.4411</td>\n",
       "      <td>1120.00</td>\n",
       "      <td>47.71</td>\n",
       "      <td>109.80</td>\n",
       "    </tr>\n",
       "    <tr>\n",
       "      <th>2010-01-05</th>\n",
       "      <td>30.625684</td>\n",
       "      <td>30.960</td>\n",
       "      <td>20.87</td>\n",
       "      <td>134.69</td>\n",
       "      <td>176.14</td>\n",
       "      <td>113.63</td>\n",
       "      <td>1136.52</td>\n",
       "      <td>19.35</td>\n",
       "      <td>1.4368</td>\n",
       "      <td>1118.65</td>\n",
       "      <td>48.17</td>\n",
       "      <td>109.70</td>\n",
       "    </tr>\n",
       "    <tr>\n",
       "      <th>2010-01-06</th>\n",
       "      <td>30.138541</td>\n",
       "      <td>30.770</td>\n",
       "      <td>20.80</td>\n",
       "      <td>132.25</td>\n",
       "      <td>174.26</td>\n",
       "      <td>113.71</td>\n",
       "      <td>1137.14</td>\n",
       "      <td>19.16</td>\n",
       "      <td>1.4412</td>\n",
       "      <td>1138.50</td>\n",
       "      <td>49.34</td>\n",
       "      <td>111.51</td>\n",
       "    </tr>\n",
       "    <tr>\n",
       "      <th>2010-01-07</th>\n",
       "      <td>30.082827</td>\n",
       "      <td>30.452</td>\n",
       "      <td>20.60</td>\n",
       "      <td>130.00</td>\n",
       "      <td>177.67</td>\n",
       "      <td>114.19</td>\n",
       "      <td>1141.69</td>\n",
       "      <td>19.06</td>\n",
       "      <td>1.4318</td>\n",
       "      <td>1131.90</td>\n",
       "      <td>49.10</td>\n",
       "      <td>110.82</td>\n",
       "    </tr>\n",
       "    <tr>\n",
       "      <th>...</th>\n",
       "      <td>...</td>\n",
       "      <td>...</td>\n",
       "      <td>...</td>\n",
       "      <td>...</td>\n",
       "      <td>...</td>\n",
       "      <td>...</td>\n",
       "      <td>...</td>\n",
       "      <td>...</td>\n",
       "      <td>...</td>\n",
       "      <td>...</td>\n",
       "      <td>...</td>\n",
       "      <td>...</td>\n",
       "    </tr>\n",
       "    <tr>\n",
       "      <th>2018-06-25</th>\n",
       "      <td>182.170000</td>\n",
       "      <td>98.390</td>\n",
       "      <td>50.71</td>\n",
       "      <td>1663.15</td>\n",
       "      <td>221.54</td>\n",
       "      <td>271.00</td>\n",
       "      <td>2717.07</td>\n",
       "      <td>17.33</td>\n",
       "      <td>1.1702</td>\n",
       "      <td>1265.00</td>\n",
       "      <td>22.01</td>\n",
       "      <td>119.89</td>\n",
       "    </tr>\n",
       "    <tr>\n",
       "      <th>2018-06-26</th>\n",
       "      <td>184.430000</td>\n",
       "      <td>99.080</td>\n",
       "      <td>49.67</td>\n",
       "      <td>1691.09</td>\n",
       "      <td>221.58</td>\n",
       "      <td>271.60</td>\n",
       "      <td>2723.06</td>\n",
       "      <td>15.92</td>\n",
       "      <td>1.1645</td>\n",
       "      <td>1258.64</td>\n",
       "      <td>21.95</td>\n",
       "      <td>119.26</td>\n",
       "    </tr>\n",
       "    <tr>\n",
       "      <th>2018-06-27</th>\n",
       "      <td>184.160000</td>\n",
       "      <td>97.540</td>\n",
       "      <td>48.76</td>\n",
       "      <td>1660.51</td>\n",
       "      <td>220.18</td>\n",
       "      <td>269.35</td>\n",
       "      <td>2699.63</td>\n",
       "      <td>17.91</td>\n",
       "      <td>1.1552</td>\n",
       "      <td>1251.62</td>\n",
       "      <td>21.81</td>\n",
       "      <td>118.58</td>\n",
       "    </tr>\n",
       "    <tr>\n",
       "      <th>2018-06-28</th>\n",
       "      <td>185.500000</td>\n",
       "      <td>98.630</td>\n",
       "      <td>49.25</td>\n",
       "      <td>1701.45</td>\n",
       "      <td>223.42</td>\n",
       "      <td>270.89</td>\n",
       "      <td>2716.31</td>\n",
       "      <td>16.85</td>\n",
       "      <td>1.1567</td>\n",
       "      <td>1247.88</td>\n",
       "      <td>21.93</td>\n",
       "      <td>118.22</td>\n",
       "    </tr>\n",
       "    <tr>\n",
       "      <th>2018-06-29</th>\n",
       "      <td>185.110000</td>\n",
       "      <td>98.610</td>\n",
       "      <td>49.71</td>\n",
       "      <td>1699.80</td>\n",
       "      <td>220.57</td>\n",
       "      <td>271.28</td>\n",
       "      <td>2718.37</td>\n",
       "      <td>16.09</td>\n",
       "      <td>1.1683</td>\n",
       "      <td>1252.25</td>\n",
       "      <td>22.31</td>\n",
       "      <td>118.65</td>\n",
       "    </tr>\n",
       "  </tbody>\n",
       "</table>\n",
       "<p>2216 rows × 12 columns</p>\n",
       "</div>"
      ],
      "text/plain": [
       "                AAPL.O  MSFT.O  INTC.O   AMZN.O    GS.N     SPY     .SPX  \\\n",
       "Date                                                                       \n",
       "2010-01-01         NaN     NaN     NaN      NaN     NaN     NaN      NaN   \n",
       "2010-01-04   30.572827  30.950   20.88   133.90  173.08  113.33  1132.99   \n",
       "2010-01-05   30.625684  30.960   20.87   134.69  176.14  113.63  1136.52   \n",
       "2010-01-06   30.138541  30.770   20.80   132.25  174.26  113.71  1137.14   \n",
       "2010-01-07   30.082827  30.452   20.60   130.00  177.67  114.19  1141.69   \n",
       "...                ...     ...     ...      ...     ...     ...      ...   \n",
       "2018-06-25  182.170000  98.390   50.71  1663.15  221.54  271.00  2717.07   \n",
       "2018-06-26  184.430000  99.080   49.67  1691.09  221.58  271.60  2723.06   \n",
       "2018-06-27  184.160000  97.540   48.76  1660.51  220.18  269.35  2699.63   \n",
       "2018-06-28  185.500000  98.630   49.25  1701.45  223.42  270.89  2716.31   \n",
       "2018-06-29  185.110000  98.610   49.71  1699.80  220.57  271.28  2718.37   \n",
       "\n",
       "             .VIX    EUR=     XAU=    GDX     GLD  \n",
       "Date                                               \n",
       "2010-01-01    NaN  1.4323  1096.35    NaN     NaN  \n",
       "2010-01-04  20.04  1.4411  1120.00  47.71  109.80  \n",
       "2010-01-05  19.35  1.4368  1118.65  48.17  109.70  \n",
       "2010-01-06  19.16  1.4412  1138.50  49.34  111.51  \n",
       "2010-01-07  19.06  1.4318  1131.90  49.10  110.82  \n",
       "...           ...     ...      ...    ...     ...  \n",
       "2018-06-25  17.33  1.1702  1265.00  22.01  119.89  \n",
       "2018-06-26  15.92  1.1645  1258.64  21.95  119.26  \n",
       "2018-06-27  17.91  1.1552  1251.62  21.81  118.58  \n",
       "2018-06-28  16.85  1.1567  1247.88  21.93  118.22  \n",
       "2018-06-29  16.09  1.1683  1252.25  22.31  118.65  \n",
       "\n",
       "[2216 rows x 12 columns]"
      ]
     },
     "execution_count": 19,
     "metadata": {},
     "output_type": "execute_result"
    }
   ],
   "source": [
    "raw"
   ]
  },
  {
   "cell_type": "code",
   "execution_count": 21,
   "metadata": {},
   "outputs": [
    {
     "name": "stdout",
     "output_type": "stream",
     "text": [
      "<class 'pandas.core.frame.DataFrame'>\n",
      "DatetimeIndex: 2216 entries, 2010-01-01 to 2018-06-29\n",
      "Data columns (total 12 columns):\n",
      " #   Column  Non-Null Count  Dtype  \n",
      "---  ------  --------------  -----  \n",
      " 0   AAPL.O  2138 non-null   float64\n",
      " 1   MSFT.O  2138 non-null   float64\n",
      " 2   INTC.O  2138 non-null   float64\n",
      " 3   AMZN.O  2138 non-null   float64\n",
      " 4   GS.N    2138 non-null   float64\n",
      " 5   SPY     2138 non-null   float64\n",
      " 6   .SPX    2138 non-null   float64\n",
      " 7   .VIX    2138 non-null   float64\n",
      " 8   EUR=    2216 non-null   float64\n",
      " 9   XAU=    2211 non-null   float64\n",
      " 10  GDX     2138 non-null   float64\n",
      " 11  GLD     2138 non-null   float64\n",
      "dtypes: float64(12)\n",
      "memory usage: 225.1 KB\n"
     ]
    }
   ],
   "source": [
    "raw.info()"
   ]
  },
  {
   "cell_type": "code",
   "execution_count": 22,
   "metadata": {},
   "outputs": [],
   "source": [
    "symbol = 'AAPL.O'"
   ]
  },
  {
   "cell_type": "code",
   "execution_count": 23,
   "metadata": {},
   "outputs": [],
   "source": [
    "data = (\n",
    "    pd.DataFrame(raw[symbol])\n",
    "    .dropna()\n",
    ")"
   ]
  },
  {
   "cell_type": "code",
   "execution_count": 24,
   "metadata": {},
   "outputs": [
    {
     "data": {
      "text/html": [
       "<div>\n",
       "<style scoped>\n",
       "    .dataframe tbody tr th:only-of-type {\n",
       "        vertical-align: middle;\n",
       "    }\n",
       "\n",
       "    .dataframe tbody tr th {\n",
       "        vertical-align: top;\n",
       "    }\n",
       "\n",
       "    .dataframe thead th {\n",
       "        text-align: right;\n",
       "    }\n",
       "</style>\n",
       "<table border=\"1\" class=\"dataframe\">\n",
       "  <thead>\n",
       "    <tr style=\"text-align: right;\">\n",
       "      <th></th>\n",
       "      <th>AAPL.O</th>\n",
       "    </tr>\n",
       "    <tr>\n",
       "      <th>Date</th>\n",
       "      <th></th>\n",
       "    </tr>\n",
       "  </thead>\n",
       "  <tbody>\n",
       "    <tr>\n",
       "      <th>2010-01-04</th>\n",
       "      <td>30.572827</td>\n",
       "    </tr>\n",
       "    <tr>\n",
       "      <th>2010-01-05</th>\n",
       "      <td>30.625684</td>\n",
       "    </tr>\n",
       "    <tr>\n",
       "      <th>2010-01-06</th>\n",
       "      <td>30.138541</td>\n",
       "    </tr>\n",
       "    <tr>\n",
       "      <th>2010-01-07</th>\n",
       "      <td>30.082827</td>\n",
       "    </tr>\n",
       "    <tr>\n",
       "      <th>2010-01-08</th>\n",
       "      <td>30.282827</td>\n",
       "    </tr>\n",
       "  </tbody>\n",
       "</table>\n",
       "</div>"
      ],
      "text/plain": [
       "               AAPL.O\n",
       "Date                 \n",
       "2010-01-04  30.572827\n",
       "2010-01-05  30.625684\n",
       "2010-01-06  30.138541\n",
       "2010-01-07  30.082827\n",
       "2010-01-08  30.282827"
      ]
     },
     "execution_count": 24,
     "metadata": {},
     "output_type": "execute_result"
    }
   ],
   "source": [
    "data.head()"
   ]
  },
  {
   "cell_type": "code",
   "execution_count": 26,
   "metadata": {},
   "outputs": [
    {
     "name": "stdout",
     "output_type": "stream",
     "text": [
      "<class 'pandas.core.frame.DataFrame'>\n",
      "DatetimeIndex: 2138 entries, 2010-01-04 to 2018-06-29\n",
      "Data columns (total 1 columns):\n",
      " #   Column  Non-Null Count  Dtype  \n",
      "---  ------  --------------  -----  \n",
      " 0   AAPL.O  2138 non-null   float64\n",
      "dtypes: float64(1)\n",
      "memory usage: 33.4 KB\n"
     ]
    }
   ],
   "source": [
    "data.info()"
   ]
  },
  {
   "cell_type": "markdown",
   "metadata": {},
   "source": [
    "### Trading Strategy"
   ]
  },
  {
   "cell_type": "code",
   "execution_count": 27,
   "metadata": {},
   "outputs": [],
   "source": [
    "SMA1 = 42  \n",
    "SMA2 = 252  "
   ]
  },
  {
   "cell_type": "code",
   "execution_count": 28,
   "metadata": {},
   "outputs": [],
   "source": [
    "data['SMA1'] = data[symbol].rolling(SMA1).mean()  \n",
    "data['SMA2'] = data[symbol].rolling(SMA2).mean()  "
   ]
  },
  {
   "cell_type": "code",
   "execution_count": 29,
   "metadata": {},
   "outputs": [
    {
     "data": {
      "image/png": "[encoded data removed]",
      "text/plain": [
       "<Figure size 720x432 with 1 Axes>"
      ]
     },
     "metadata": {
      "needs_background": "light"
     },
     "output_type": "display_data"
    }
   ],
   "source": [
    "data.plot(figsize=(10, 6));\n",
    "# plt.savefig('../../images/ch15/strat_plot_01.png')"
   ]
  },
  {
   "cell_type": "code",
   "execution_count": 33,
   "metadata": {},
   "outputs": [],
   "source": [
    "data.dropna(inplace=True)"
   ]
  },
  {
   "cell_type": "code",
   "execution_count": 34,
   "metadata": {},
   "outputs": [],
   "source": [
    "data['Position'] = np.where(data['SMA1'] > data['SMA2'], 1, -1)  "
   ]
  },
  {
   "cell_type": "code",
   "execution_count": 35,
   "metadata": {},
   "outputs": [
    {
     "data": {
      "text/html": [
       "<div>\n",
       "<style scoped>\n",
       "    .dataframe tbody tr th:only-of-type {\n",
       "        vertical-align: middle;\n",
       "    }\n",
       "\n",
       "    .dataframe tbody tr th {\n",
       "        vertical-align: top;\n",
       "    }\n",
       "\n",
       "    .dataframe thead th {\n",
       "        text-align: right;\n",
       "    }\n",
       "</style>\n",
       "<table border=\"1\" class=\"dataframe\">\n",
       "  <thead>\n",
       "    <tr style=\"text-align: right;\">\n",
       "      <th></th>\n",
       "      <th>AAPL.O</th>\n",
       "      <th>SMA1</th>\n",
       "      <th>SMA2</th>\n",
       "      <th>Position</th>\n",
       "    </tr>\n",
       "    <tr>\n",
       "      <th>Date</th>\n",
       "      <th></th>\n",
       "      <th></th>\n",
       "      <th></th>\n",
       "      <th></th>\n",
       "    </tr>\n",
       "  </thead>\n",
       "  <tbody>\n",
       "    <tr>\n",
       "      <th>2018-06-25</th>\n",
       "      <td>182.17</td>\n",
       "      <td>185.606190</td>\n",
       "      <td>168.265556</td>\n",
       "      <td>1</td>\n",
       "    </tr>\n",
       "    <tr>\n",
       "      <th>2018-06-26</th>\n",
       "      <td>184.43</td>\n",
       "      <td>186.087381</td>\n",
       "      <td>168.418770</td>\n",
       "      <td>1</td>\n",
       "    </tr>\n",
       "    <tr>\n",
       "      <th>2018-06-27</th>\n",
       "      <td>184.16</td>\n",
       "      <td>186.607381</td>\n",
       "      <td>168.579206</td>\n",
       "      <td>1</td>\n",
       "    </tr>\n",
       "    <tr>\n",
       "      <th>2018-06-28</th>\n",
       "      <td>185.50</td>\n",
       "      <td>187.089286</td>\n",
       "      <td>168.736627</td>\n",
       "      <td>1</td>\n",
       "    </tr>\n",
       "    <tr>\n",
       "      <th>2018-06-29</th>\n",
       "      <td>185.11</td>\n",
       "      <td>187.470476</td>\n",
       "      <td>168.901032</td>\n",
       "      <td>1</td>\n",
       "    </tr>\n",
       "  </tbody>\n",
       "</table>\n",
       "</div>"
      ],
      "text/plain": [
       "            AAPL.O        SMA1        SMA2  Position\n",
       "Date                                                \n",
       "2018-06-25  182.17  185.606190  168.265556         1\n",
       "2018-06-26  184.43  186.087381  168.418770         1\n",
       "2018-06-27  184.16  186.607381  168.579206         1\n",
       "2018-06-28  185.50  187.089286  168.736627         1\n",
       "2018-06-29  185.11  187.470476  168.901032         1"
      ]
     },
     "execution_count": 35,
     "metadata": {},
     "output_type": "execute_result"
    }
   ],
   "source": [
    "data.tail()"
   ]
  },
  {
   "cell_type": "code",
   "execution_count": 36,
   "metadata": {},
   "outputs": [
    {
     "data": {
      "image/png": "[encoded data removed]",
      "text/plain": [
       "<Figure size 720x432 with 2 Axes>"
      ]
     },
     "metadata": {
      "needs_background": "light"
     },
     "output_type": "display_data"
    }
   ],
   "source": [
    "ax = data.plot(secondary_y='Position', figsize=(10, 6))\n",
    "ax.get_legend().set_bbox_to_anchor((0.25, 0.85));\n",
    "# plt.savefig('../../images/ch15/strat_plot_02.png')"
   ]
  },
  {
   "cell_type": "markdown",
   "metadata": {},
   "source": [
    "### Vectorized Backtesting"
   ]
  },
  {
   "cell_type": "code",
   "execution_count": 37,
   "metadata": {},
   "outputs": [],
   "source": [
    "data['Returns'] = np.log(data[symbol] / data[symbol].shift(1))  "
   ]
  },
  {
   "cell_type": "code",
   "execution_count": 38,
   "metadata": {},
   "outputs": [],
   "source": [
    "data['Strategy'] = data['Position'].shift(1) * data['Returns']  "
   ]
  },
  {
   "cell_type": "code",
   "execution_count": 39,
   "metadata": {},
   "outputs": [
    {
     "data": {
      "text/html": [
       "<div>\n",
       "<style scoped>\n",
       "    .dataframe tbody tr th:only-of-type {\n",
       "        vertical-align: middle;\n",
       "    }\n",
       "\n",
       "    .dataframe tbody tr th {\n",
       "        vertical-align: top;\n",
       "    }\n",
       "\n",
       "    .dataframe thead th {\n",
       "        text-align: right;\n",
       "    }\n",
       "</style>\n",
       "<table border=\"1\" class=\"dataframe\">\n",
       "  <thead>\n",
       "    <tr style=\"text-align: right;\">\n",
       "      <th></th>\n",
       "      <th>AAPL.O</th>\n",
       "      <th>SMA1</th>\n",
       "      <th>SMA2</th>\n",
       "      <th>Position</th>\n",
       "      <th>Returns</th>\n",
       "      <th>Strategy</th>\n",
       "    </tr>\n",
       "    <tr>\n",
       "      <th>Date</th>\n",
       "      <th></th>\n",
       "      <th></th>\n",
       "      <th></th>\n",
       "      <th></th>\n",
       "      <th></th>\n",
       "      <th></th>\n",
       "    </tr>\n",
       "  </thead>\n",
       "  <tbody>\n",
       "    <tr>\n",
       "      <th>2010-12-31</th>\n",
       "      <td>46.0800</td>\n",
       "      <td>45.2810</td>\n",
       "      <td>37.1207</td>\n",
       "      <td>1</td>\n",
       "      <td>NaN</td>\n",
       "      <td>NaN</td>\n",
       "    </tr>\n",
       "    <tr>\n",
       "      <th>2011-01-03</th>\n",
       "      <td>47.0814</td>\n",
       "      <td>45.3497</td>\n",
       "      <td>37.1862</td>\n",
       "      <td>1</td>\n",
       "      <td>0.0215</td>\n",
       "      <td>0.0215</td>\n",
       "    </tr>\n",
       "    <tr>\n",
       "      <th>2011-01-04</th>\n",
       "      <td>47.3271</td>\n",
       "      <td>45.4126</td>\n",
       "      <td>37.2525</td>\n",
       "      <td>1</td>\n",
       "      <td>0.0052</td>\n",
       "      <td>0.0052</td>\n",
       "    </tr>\n",
       "    <tr>\n",
       "      <th>2011-01-05</th>\n",
       "      <td>47.7142</td>\n",
       "      <td>45.4661</td>\n",
       "      <td>37.3223</td>\n",
       "      <td>1</td>\n",
       "      <td>0.0081</td>\n",
       "      <td>0.0081</td>\n",
       "    </tr>\n",
       "    <tr>\n",
       "      <th>2011-01-06</th>\n",
       "      <td>47.6757</td>\n",
       "      <td>45.5226</td>\n",
       "      <td>37.3921</td>\n",
       "      <td>1</td>\n",
       "      <td>-0.0008</td>\n",
       "      <td>-0.0008</td>\n",
       "    </tr>\n",
       "  </tbody>\n",
       "</table>\n",
       "</div>"
      ],
      "text/plain": [
       "             AAPL.O     SMA1     SMA2  Position  Returns  Strategy\n",
       "Date                                                              \n",
       "2010-12-31  46.0800  45.2810  37.1207         1      NaN       NaN\n",
       "2011-01-03  47.0814  45.3497  37.1862         1   0.0215    0.0215\n",
       "2011-01-04  47.3271  45.4126  37.2525         1   0.0052    0.0052\n",
       "2011-01-05  47.7142  45.4661  37.3223         1   0.0081    0.0081\n",
       "2011-01-06  47.6757  45.5226  37.3921         1  -0.0008   -0.0008"
      ]
     },
     "execution_count": 39,
     "metadata": {},
     "output_type": "execute_result"
    }
   ],
   "source": [
    "data.round(4).head()"
   ]
  },
  {
   "cell_type": "code",
   "execution_count": 40,
   "metadata": {},
   "outputs": [],
   "source": [
    "data.dropna(inplace=True)"
   ]
  },
  {
   "cell_type": "code",
   "execution_count": 41,
   "metadata": {},
   "outputs": [
    {
     "data": {
      "text/plain": [
       "Returns     4.017148\n",
       "Strategy    5.811299\n",
       "dtype: float64"
      ]
     },
     "execution_count": 41,
     "metadata": {},
     "output_type": "execute_result"
    }
   ],
   "source": [
    "np.exp(data[['Returns', 'Strategy']].sum())  "
   ]
  },
  {
   "cell_type": "code",
   "execution_count": 42,
   "metadata": {},
   "outputs": [
    {
     "data": {
      "text/plain": [
       "Returns     0.250571\n",
       "Strategy    0.250407\n",
       "dtype: float64"
      ]
     },
     "execution_count": 42,
     "metadata": {},
     "output_type": "execute_result"
    }
   ],
   "source": [
    "data[['Returns', 'Strategy']].std() * 252 ** 0.5  "
   ]
  },
  {
   "cell_type": "code",
   "execution_count": 43,
   "metadata": {},
   "outputs": [
    {
     "data": {
      "image/png": "[encoded data removed]",
      "text/plain": [
       "<Figure size 720x432 with 2 Axes>"
      ]
     },
     "metadata": {
      "needs_background": "light"
     },
     "output_type": "display_data"
    }
   ],
   "source": [
    "ax = data[['Returns', 'Strategy']].cumsum(\n",
    "        ).apply(np.exp).plot(figsize=(10, 6))\n",
    "data['Position'].plot(ax=ax, secondary_y='Position', style='--')\n",
    "ax.get_legend().set_bbox_to_anchor((0.25, 0.85));\n",
    "# plt.savefig('../../images/ch15/strat_plot_03.png');"
   ]
  },
  {
   "cell_type": "markdown",
   "metadata": {},
   "source": [
    "### Optimization"
   ]
  },
  {
   "cell_type": "code",
   "execution_count": 63,
   "metadata": {},
   "outputs": [],
   "source": [
    "from itertools import product"
   ]
  },
  {
   "cell_type": "code",
   "execution_count": 64,
   "metadata": {},
   "outputs": [],
   "source": [
    "sma1 = range(20, 61, 4)  \n",
    "sma2 = range(180, 281, 10)  "
   ]
  },
  {
   "cell_type": "code",
   "execution_count": 77,
   "metadata": {},
   "outputs": [
    {
     "name": "stdout",
     "output_type": "stream",
     "text": [
      "20 180\n",
      "20 190\n",
      "20 200\n",
      "20 210\n",
      "20 220\n",
      "20 230\n",
      "20 240\n",
      "20 250\n",
      "20 260\n",
      "20 270\n",
      "20 280\n",
      "24 180\n",
      "24 190\n",
      "24 200\n",
      "24 210\n",
      "24 220\n",
      "24 230\n",
      "24 240\n",
      "24 250\n",
      "24 260\n",
      "24 270\n",
      "24 280\n",
      "28 180\n",
      "28 190\n",
      "28 200\n",
      "28 210\n",
      "28 220\n",
      "28 230\n",
      "28 240\n",
      "28 250\n",
      "28 260\n",
      "28 270\n",
      "28 280\n",
      "32 180\n",
      "32 190\n",
      "32 200\n",
      "32 210\n",
      "32 220\n",
      "32 230\n",
      "32 240\n",
      "32 250\n",
      "32 260\n",
      "32 270\n",
      "32 280\n",
      "36 180\n",
      "36 190\n",
      "36 200\n",
      "36 210\n",
      "36 220\n",
      "36 230\n",
      "36 240\n",
      "36 250\n",
      "36 260\n",
      "36 270\n",
      "36 280\n",
      "40 180\n",
      "40 190\n",
      "40 200\n",
      "40 210\n",
      "40 220\n",
      "40 230\n",
      "40 240\n",
      "40 250\n",
      "40 260\n",
      "40 270\n",
      "40 280\n",
      "44 180\n",
      "44 190\n",
      "44 200\n",
      "44 210\n",
      "44 220\n",
      "44 230\n",
      "44 240\n",
      "44 250\n",
      "44 260\n",
      "44 270\n",
      "44 280\n",
      "48 180\n",
      "48 190\n",
      "48 200\n",
      "48 210\n",
      "48 220\n",
      "48 230\n",
      "48 240\n",
      "48 250\n",
      "48 260\n",
      "48 270\n",
      "48 280\n",
      "52 180\n",
      "52 190\n",
      "52 200\n",
      "52 210\n",
      "52 220\n",
      "52 230\n",
      "52 240\n",
      "52 250\n",
      "52 260\n",
      "52 270\n",
      "52 280\n",
      "56 180\n",
      "56 190\n",
      "56 200\n",
      "56 210\n",
      "56 220\n",
      "56 230\n",
      "56 240\n",
      "56 250\n",
      "56 260\n",
      "56 270\n",
      "56 280\n",
      "60 180\n",
      "60 190\n",
      "60 200\n",
      "60 210\n",
      "60 220\n",
      "60 230\n",
      "60 240\n",
      "60 250\n",
      "60 260\n",
      "60 270\n",
      "60 280\n"
     ]
    }
   ],
   "source": [
    "for SMA1, SMA2 in product(sma1, sma2):\n",
    "    print (SMA1,SMA2)"
   ]
  },
  {
   "cell_type": "code",
   "execution_count": 80,
   "metadata": {},
   "outputs": [],
   "source": [
    "results = pd.DataFrame()\n",
    "for SMA1, SMA2 in product(sma1, sma2):  \n",
    "    data = pd.DataFrame(raw[symbol])\n",
    "    data.dropna(inplace=True)\n",
    "    data['Returns'] = np.log(data[symbol] / data[symbol].shift(1))\n",
    "    data['SMA1'] = data[symbol].rolling(SMA1).mean()\n",
    "    data['SMA2'] = data[symbol].rolling(SMA2).mean()\n",
    "    data.dropna(inplace=True)\n",
    "    data['Position'] = np.where(data['SMA1'] > data['SMA2'], 1, -1)\n",
    "    data['Strategy'] = data['Position'].shift(1) * data['Returns']\n",
    "    data.dropna(inplace=True)\n",
    "    perf = np.exp(data[['Returns', 'Strategy']].sum())\n",
    "    results = pd.concat([results,pd.DataFrame(\n",
    "                {'SMA1': SMA1, 'SMA2': SMA2,\n",
    "                 'MARKET': perf['Returns'],\n",
    "                 'STRATEGY': perf['Strategy'],\n",
    "                 'OUT': perf['Strategy'] - perf['Returns']},\n",
    "                 index=[0])], ignore_index=True)  "
   ]
  },
  {
   "cell_type": "code",
   "execution_count": 81,
   "metadata": {},
   "outputs": [
    {
     "data": {
      "text/html": [
       "<div>\n",
       "<style scoped>\n",
       "    .dataframe tbody tr th:only-of-type {\n",
       "        vertical-align: middle;\n",
       "    }\n",
       "\n",
       "    .dataframe tbody tr th {\n",
       "        vertical-align: top;\n",
       "    }\n",
       "\n",
       "    .dataframe thead th {\n",
       "        text-align: right;\n",
       "    }\n",
       "</style>\n",
       "<table border=\"1\" class=\"dataframe\">\n",
       "  <thead>\n",
       "    <tr style=\"text-align: right;\">\n",
       "      <th></th>\n",
       "      <th>SMA1</th>\n",
       "      <th>SMA2</th>\n",
       "      <th>MARKET</th>\n",
       "      <th>STRATEGY</th>\n",
       "      <th>OUT</th>\n",
       "    </tr>\n",
       "  </thead>\n",
       "  <tbody>\n",
       "    <tr>\n",
       "      <th>0</th>\n",
       "      <td>20</td>\n",
       "      <td>180</td>\n",
       "      <td>4.574979</td>\n",
       "      <td>4.326431</td>\n",
       "      <td>-0.248548</td>\n",
       "    </tr>\n",
       "    <tr>\n",
       "      <th>1</th>\n",
       "      <td>20</td>\n",
       "      <td>190</td>\n",
       "      <td>4.650342</td>\n",
       "      <td>5.218921</td>\n",
       "      <td>0.568579</td>\n",
       "    </tr>\n",
       "    <tr>\n",
       "      <th>2</th>\n",
       "      <td>20</td>\n",
       "      <td>200</td>\n",
       "      <td>4.074753</td>\n",
       "      <td>5.300207</td>\n",
       "      <td>1.225454</td>\n",
       "    </tr>\n",
       "    <tr>\n",
       "      <th>3</th>\n",
       "      <td>20</td>\n",
       "      <td>210</td>\n",
       "      <td>4.259883</td>\n",
       "      <td>5.219410</td>\n",
       "      <td>0.959527</td>\n",
       "    </tr>\n",
       "    <tr>\n",
       "      <th>4</th>\n",
       "      <td>20</td>\n",
       "      <td>220</td>\n",
       "      <td>4.220272</td>\n",
       "      <td>5.259889</td>\n",
       "      <td>1.039616</td>\n",
       "    </tr>\n",
       "    <tr>\n",
       "      <th>...</th>\n",
       "      <td>...</td>\n",
       "      <td>...</td>\n",
       "      <td>...</td>\n",
       "      <td>...</td>\n",
       "      <td>...</td>\n",
       "    </tr>\n",
       "    <tr>\n",
       "      <th>116</th>\n",
       "      <td>60</td>\n",
       "      <td>240</td>\n",
       "      <td>4.045619</td>\n",
       "      <td>4.675603</td>\n",
       "      <td>0.629984</td>\n",
       "    </tr>\n",
       "    <tr>\n",
       "      <th>117</th>\n",
       "      <td>60</td>\n",
       "      <td>250</td>\n",
       "      <td>3.983434</td>\n",
       "      <td>4.583305</td>\n",
       "      <td>0.599871</td>\n",
       "    </tr>\n",
       "    <tr>\n",
       "      <th>118</th>\n",
       "      <td>60</td>\n",
       "      <td>260</td>\n",
       "      <td>3.762184</td>\n",
       "      <td>4.138318</td>\n",
       "      <td>0.376134</td>\n",
       "    </tr>\n",
       "    <tr>\n",
       "      <th>119</th>\n",
       "      <td>60</td>\n",
       "      <td>270</td>\n",
       "      <td>3.775447</td>\n",
       "      <td>3.653685</td>\n",
       "      <td>-0.121762</td>\n",
       "    </tr>\n",
       "    <tr>\n",
       "      <th>120</th>\n",
       "      <td>60</td>\n",
       "      <td>280</td>\n",
       "      <td>3.654796</td>\n",
       "      <td>3.416071</td>\n",
       "      <td>-0.238725</td>\n",
       "    </tr>\n",
       "  </tbody>\n",
       "</table>\n",
       "<p>121 rows × 5 columns</p>\n",
       "</div>"
      ],
      "text/plain": [
       "     SMA1  SMA2    MARKET  STRATEGY       OUT\n",
       "0      20   180  4.574979  4.326431 -0.248548\n",
       "1      20   190  4.650342  5.218921  0.568579\n",
       "2      20   200  4.074753  5.300207  1.225454\n",
       "3      20   210  4.259883  5.219410  0.959527\n",
       "4      20   220  4.220272  5.259889  1.039616\n",
       "..    ...   ...       ...       ...       ...\n",
       "116    60   240  4.045619  4.675603  0.629984\n",
       "117    60   250  3.983434  4.583305  0.599871\n",
       "118    60   260  3.762184  4.138318  0.376134\n",
       "119    60   270  3.775447  3.653685 -0.121762\n",
       "120    60   280  3.654796  3.416071 -0.238725\n",
       "\n",
       "[121 rows x 5 columns]"
      ]
     },
     "execution_count": 81,
     "metadata": {},
     "output_type": "execute_result"
    }
   ],
   "source": [
    "results"
   ]
  },
  {
   "cell_type": "code",
   "execution_count": 82,
   "metadata": {},
   "outputs": [
    {
     "name": "stdout",
     "output_type": "stream",
     "text": [
      "<class 'pandas.core.frame.DataFrame'>\n",
      "RangeIndex: 121 entries, 0 to 120\n",
      "Data columns (total 5 columns):\n",
      " #   Column    Non-Null Count  Dtype  \n",
      "---  ------    --------------  -----  \n",
      " 0   SMA1      121 non-null    int64  \n",
      " 1   SMA2      121 non-null    int64  \n",
      " 2   MARKET    121 non-null    float64\n",
      " 3   STRATEGY  121 non-null    float64\n",
      " 4   OUT       121 non-null    float64\n",
      "dtypes: float64(3), int64(2)\n",
      "memory usage: 4.9 KB\n"
     ]
    }
   ],
   "source": [
    "results.info()"
   ]
  },
  {
   "cell_type": "code",
   "execution_count": 83,
   "metadata": {},
   "outputs": [
    {
     "data": {
      "text/html": [
       "<div>\n",
       "<style scoped>\n",
       "    .dataframe tbody tr th:only-of-type {\n",
       "        vertical-align: middle;\n",
       "    }\n",
       "\n",
       "    .dataframe tbody tr th {\n",
       "        vertical-align: top;\n",
       "    }\n",
       "\n",
       "    .dataframe thead th {\n",
       "        text-align: right;\n",
       "    }\n",
       "</style>\n",
       "<table border=\"1\" class=\"dataframe\">\n",
       "  <thead>\n",
       "    <tr style=\"text-align: right;\">\n",
       "      <th></th>\n",
       "      <th>SMA1</th>\n",
       "      <th>SMA2</th>\n",
       "      <th>MARKET</th>\n",
       "      <th>STRATEGY</th>\n",
       "      <th>OUT</th>\n",
       "    </tr>\n",
       "  </thead>\n",
       "  <tbody>\n",
       "    <tr>\n",
       "      <th>56</th>\n",
       "      <td>40</td>\n",
       "      <td>190</td>\n",
       "      <td>4.650342</td>\n",
       "      <td>7.175173</td>\n",
       "      <td>2.524831</td>\n",
       "    </tr>\n",
       "    <tr>\n",
       "      <th>39</th>\n",
       "      <td>32</td>\n",
       "      <td>240</td>\n",
       "      <td>4.045619</td>\n",
       "      <td>6.558690</td>\n",
       "      <td>2.513071</td>\n",
       "    </tr>\n",
       "    <tr>\n",
       "      <th>59</th>\n",
       "      <td>40</td>\n",
       "      <td>220</td>\n",
       "      <td>4.220272</td>\n",
       "      <td>6.544266</td>\n",
       "      <td>2.323994</td>\n",
       "    </tr>\n",
       "    <tr>\n",
       "      <th>46</th>\n",
       "      <td>36</td>\n",
       "      <td>200</td>\n",
       "      <td>4.074753</td>\n",
       "      <td>6.389627</td>\n",
       "      <td>2.314874</td>\n",
       "    </tr>\n",
       "    <tr>\n",
       "      <th>55</th>\n",
       "      <td>40</td>\n",
       "      <td>180</td>\n",
       "      <td>4.574979</td>\n",
       "      <td>6.857989</td>\n",
       "      <td>2.283010</td>\n",
       "    </tr>\n",
       "    <tr>\n",
       "      <th>70</th>\n",
       "      <td>44</td>\n",
       "      <td>220</td>\n",
       "      <td>4.220272</td>\n",
       "      <td>6.469843</td>\n",
       "      <td>2.249571</td>\n",
       "    </tr>\n",
       "    <tr>\n",
       "      <th>101</th>\n",
       "      <td>56</td>\n",
       "      <td>200</td>\n",
       "      <td>4.074753</td>\n",
       "      <td>6.319524</td>\n",
       "      <td>2.244772</td>\n",
       "    </tr>\n",
       "  </tbody>\n",
       "</table>\n",
       "</div>"
      ],
      "text/plain": [
       "     SMA1  SMA2    MARKET  STRATEGY       OUT\n",
       "56     40   190  4.650342  7.175173  2.524831\n",
       "39     32   240  4.045619  6.558690  2.513071\n",
       "59     40   220  4.220272  6.544266  2.323994\n",
       "46     36   200  4.074753  6.389627  2.314874\n",
       "55     40   180  4.574979  6.857989  2.283010\n",
       "70     44   220  4.220272  6.469843  2.249571\n",
       "101    56   200  4.074753  6.319524  2.244772"
      ]
     },
     "execution_count": 83,
     "metadata": {},
     "output_type": "execute_result"
    }
   ],
   "source": [
    "results.sort_values('OUT', ascending=False).head(7)"
   ]
  },
  {
   "cell_type": "markdown",
   "metadata": {},
   "source": [
    "## Random Walk Hypothesis"
   ]
  },
  {
   "cell_type": "code",
   "execution_count": 84,
   "metadata": {},
   "outputs": [],
   "source": [
    "symbol = '.SPX'"
   ]
  },
  {
   "cell_type": "code",
   "execution_count": 94,
   "metadata": {},
   "outputs": [],
   "source": [
    "data = pd.DataFrame(raw[symbol])\n",
    "data.dropna(inplace=True)"
   ]
  },
  {
   "cell_type": "code",
   "execution_count": 95,
   "metadata": {},
   "outputs": [],
   "source": [
    "lags = 5\n",
    "cols = []\n",
    "for lag in range(1, lags + 1):\n",
    "    col = 'lag_{}'.format(lag)  \n",
    "    data[col] = data[symbol].shift(lag)  \n",
    "    cols.append(col)  "
   ]
  },
  {
   "cell_type": "code",
   "execution_count": 101,
   "metadata": {},
   "outputs": [
    {
     "data": {
      "text/html": [
       "<div>\n",
       "<style scoped>\n",
       "    .dataframe tbody tr th:only-of-type {\n",
       "        vertical-align: middle;\n",
       "    }\n",
       "\n",
       "    .dataframe tbody tr th {\n",
       "        vertical-align: top;\n",
       "    }\n",
       "\n",
       "    .dataframe thead th {\n",
       "        text-align: right;\n",
       "    }\n",
       "</style>\n",
       "<table border=\"1\" class=\"dataframe\">\n",
       "  <thead>\n",
       "    <tr style=\"text-align: right;\">\n",
       "      <th></th>\n",
       "      <th>.SPX</th>\n",
       "      <th>lag_1</th>\n",
       "      <th>lag_2</th>\n",
       "      <th>lag_3</th>\n",
       "      <th>lag_4</th>\n",
       "      <th>lag_5</th>\n",
       "    </tr>\n",
       "    <tr>\n",
       "      <th>Date</th>\n",
       "      <th></th>\n",
       "      <th></th>\n",
       "      <th></th>\n",
       "      <th></th>\n",
       "      <th></th>\n",
       "      <th></th>\n",
       "    </tr>\n",
       "  </thead>\n",
       "  <tbody>\n",
       "    <tr>\n",
       "      <th>2010-01-11</th>\n",
       "      <td>1146.98</td>\n",
       "      <td>1144.98</td>\n",
       "      <td>1141.69</td>\n",
       "      <td>1137.14</td>\n",
       "      <td>1136.52</td>\n",
       "      <td>1132.99</td>\n",
       "    </tr>\n",
       "    <tr>\n",
       "      <th>2010-01-12</th>\n",
       "      <td>1136.22</td>\n",
       "      <td>1146.98</td>\n",
       "      <td>1144.98</td>\n",
       "      <td>1141.69</td>\n",
       "      <td>1137.14</td>\n",
       "      <td>1136.52</td>\n",
       "    </tr>\n",
       "    <tr>\n",
       "      <th>2010-01-13</th>\n",
       "      <td>1145.68</td>\n",
       "      <td>1136.22</td>\n",
       "      <td>1146.98</td>\n",
       "      <td>1144.98</td>\n",
       "      <td>1141.69</td>\n",
       "      <td>1137.14</td>\n",
       "    </tr>\n",
       "    <tr>\n",
       "      <th>2010-01-14</th>\n",
       "      <td>1148.46</td>\n",
       "      <td>1145.68</td>\n",
       "      <td>1136.22</td>\n",
       "      <td>1146.98</td>\n",
       "      <td>1144.98</td>\n",
       "      <td>1141.69</td>\n",
       "    </tr>\n",
       "    <tr>\n",
       "      <th>2010-01-15</th>\n",
       "      <td>1136.03</td>\n",
       "      <td>1148.46</td>\n",
       "      <td>1145.68</td>\n",
       "      <td>1136.22</td>\n",
       "      <td>1146.98</td>\n",
       "      <td>1144.98</td>\n",
       "    </tr>\n",
       "  </tbody>\n",
       "</table>\n",
       "</div>"
      ],
      "text/plain": [
       "               .SPX    lag_1    lag_2    lag_3    lag_4    lag_5\n",
       "Date                                                            \n",
       "2010-01-11  1146.98  1144.98  1141.69  1137.14  1136.52  1132.99\n",
       "2010-01-12  1136.22  1146.98  1144.98  1141.69  1137.14  1136.52\n",
       "2010-01-13  1145.68  1136.22  1146.98  1144.98  1141.69  1137.14\n",
       "2010-01-14  1148.46  1145.68  1136.22  1146.98  1144.98  1141.69\n",
       "2010-01-15  1136.03  1148.46  1145.68  1136.22  1146.98  1144.98"
      ]
     },
     "execution_count": 101,
     "metadata": {},
     "output_type": "execute_result"
    }
   ],
   "source": [
    "data.head()"
   ]
  },
  {
   "cell_type": "code",
   "execution_count": 98,
   "metadata": {},
   "outputs": [],
   "source": [
    "data.dropna(inplace=True)"
   ]
  },
  {
   "cell_type": "code",
   "execution_count": 99,
   "metadata": {},
   "outputs": [],
   "source": [
    "reg = np.linalg.lstsq(data[cols], data[symbol], rcond=-1)[0]"
   ]
  },
  {
   "cell_type": "code",
   "execution_count": 100,
   "metadata": {},
   "outputs": [
    {
     "data": {
      "text/plain": [
       "array([ 0.961,  0.009,  0.034, -0.017,  0.014])"
      ]
     },
     "execution_count": 100,
     "metadata": {},
     "output_type": "execute_result"
    }
   ],
   "source": [
    "reg.round(3)"
   ]
  },
  {
   "cell_type": "code",
   "execution_count": 102,
   "metadata": {},
   "outputs": [
    {
     "data": {
      "image/png": "[encoded data removed]",
      "text/plain": [
       "<Figure size 720x432 with 1 Axes>"
      ]
     },
     "metadata": {
      "needs_background": "light"
     },
     "output_type": "display_data"
    }
   ],
   "source": [
    "plt.figure(figsize=(10, 6))\n",
    "plt.bar(cols, reg);\n",
    "# plt.savefig('../../images/ch15/strat_plot_04.png');"
   ]
  },
  {
   "cell_type": "code",
   "execution_count": 103,
   "metadata": {},
   "outputs": [],
   "source": [
    "data['Prediction'] = np.dot(data[cols], reg)"
   ]
  },
  {
   "cell_type": "code",
   "execution_count": 104,
   "metadata": {},
   "outputs": [
    {
     "data": {
      "image/png": "[encoded data removed]",
      "text/plain": [
       "<Figure size 720x432 with 1 Axes>"
      ]
     },
     "metadata": {
      "needs_background": "light"
     },
     "output_type": "display_data"
    }
   ],
   "source": [
    "data[[symbol, 'Prediction']].iloc[-75:].plot(figsize=(10, 6));\n",
    "# plt.savefig('../../images/ch15/strat_plot_05.png');"
   ]
  }
 ],
 "metadata": {
  "kernelspec": {
   "display_name": "Python 3 (ipykernel)",
   "language": "python",
   "name": "python3"
  },
  "language_info": {
   "codemirror_mode": {
    "name": "ipython",
    "version": 3
   },
   "file_extension": ".py",
   "mimetype": "text/x-python",
   "name": "python",
   "nbconvert_exporter": "python",
   "pygments_lexer": "ipython3",
   "version": "3.10.4"
  }
 },
 "nbformat": 4,
 "nbformat_minor": 4
}
