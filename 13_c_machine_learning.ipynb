{
  "cells": [
    {
      "cell_type": "markdown",
      "metadata": {
        "id": "view-in-github",
        "colab_type": "text"
      },
      "source": [
        "<a href=\"https://colab.research.google.com/github/zhcgreat/zhc/blob/main/13_c_machine_learning.ipynb\" target=\"_parent\"><img src=\"https://colab.research.google.com/assets/colab-badge.svg\" alt=\"Open In Colab\"/></a>"
      ]
    },
    {
      "cell_type": "markdown",
      "metadata": {
        "id": "PHL0U52peg5H"
      },
      "source": [
        "<img src=\"http://hilpisch.com/tpq_logo.png\" alt=\"The Python Quants\" width=\"35%\" align=\"right\" border=\"0\"><br>"
      ]
    },
    {
      "cell_type": "markdown",
      "metadata": {
        "id": "v0-PRiMyeg5e"
      },
      "source": [
        "# Python for Finance (2nd ed.)\n",
        "\n",
        "**Mastering Data-Driven Finance**\n",
        "\n",
        "&copy; Dr. Yves J. Hilpisch | The Python Quants GmbH\n",
        "\n",
        "<img src=\"http://hilpisch.com/images/py4fi_2nd_shadow.png\" width=\"300px\" align=\"left\">"
      ]
    },
    {
      "cell_type": "markdown",
      "metadata": {
        "id": "hUqGBzUFeg5f"
      },
      "source": [
        "# Statistics (c)"
      ]
    },
    {
      "cell_type": "markdown",
      "metadata": {
        "id": "VOlEpJHYeg5g"
      },
      "source": [
        "## Machine Learning"
      ]
    },
    {
      "cell_type": "code",
      "execution_count": 85,
      "metadata": {
        "id": "W5waTc51eg5g"
      },
      "outputs": [],
      "source": [
        "import numpy as np\n",
        "import pandas as pd\n",
        "import datetime as dt\n",
        "import matplotlib as mpl\n",
        "import matplotlib.pyplot as plt\n",
        "import warnings; warnings.simplefilter('ignore')"
      ]
    },
    {
      "cell_type": "code",
      "execution_count": null,
      "metadata": {
        "scrolled": true,
        "id": "vXl0pkAseg5i"
      },
      "outputs": [],
      "source": [
        "plt.style.use('seaborn')\n",
        "mpl.rcParams['font.family'] = 'serif'\n",
        "np.random.seed(1000)\n",
        "np.set_printoptions(suppress=True, precision=4)\n",
        "%matplotlib inline"
      ]
    },
    {
      "cell_type": "markdown",
      "metadata": {
        "id": "ThYPlxL_eg5l"
      },
      "source": [
        "## Unsupervised Learning"
      ]
    },
    {
      "cell_type": "markdown",
      "metadata": {
        "id": "-f8cyPg0eg5m"
      },
      "source": [
        "### The Data"
      ]
    },
    {
      "cell_type": "code",
      "source": [
        "from sklearn.datasets import make_blobs"
      ],
      "metadata": {
        "id": "NBMykX4cp9WV"
      },
      "execution_count": null,
      "outputs": []
    },
    {
      "cell_type": "code",
      "execution_count": null,
      "metadata": {
        "id": "qgBH_U9Weg5o"
      },
      "outputs": [],
      "source": [
        "X, y = make_blobs(n_samples=250, centers=4,\n",
        "                  random_state=500, cluster_std=1.25)  "
      ]
    },
    {
      "cell_type": "code",
      "execution_count": null,
      "metadata": {
        "colab": {
          "base_uri": "https://localhost:8080/",
          "height": 373
        },
        "id": "16rOG7Nseg5p",
        "outputId": "b0dc1ea6-0b40-4858-d2e4-7a38cbef68c6"
      },
      "outputs": [
        {
          "output_type": "display_data",
          "data": {
            "text/plain": [
              "<Figure size 720x432 with 1 Axes>"
            ],
            "image/png": "[encoded data removed]"
          },
          "metadata": {
            "needs_background": "light"
          }
        }
      ],
      "source": [
        "plt.figure(figsize=(10, 6))\n",
        "plt.scatter(X[:, 0], X[:, 1], s=50);\n",
        "# plt.savefig('../../images/ch13/ml_plot_01.png')"
      ]
    },
    {
      "cell_type": "markdown",
      "metadata": {
        "id": "8E24_ouweg5q"
      },
      "source": [
        "### K-Means Clustering"
      ]
    },
    {
      "cell_type": "code",
      "execution_count": null,
      "metadata": {
        "id": "fZ8P6Kbxeg5q"
      },
      "outputs": [],
      "source": [
        "from sklearn.cluster import KMeans  "
      ]
    },
    {
      "cell_type": "code",
      "execution_count": null,
      "metadata": {
        "id": "qhvRQUadeg5r"
      },
      "outputs": [],
      "source": [
        "model = KMeans(n_clusters=4, random_state=0)  "
      ]
    },
    {
      "cell_type": "code",
      "execution_count": null,
      "metadata": {
        "colab": {
          "base_uri": "https://localhost:8080/"
        },
        "id": "VxJcDHtqeg5r",
        "outputId": "cd30eb23-a04a-4fae-da82-eb6ca34ad075"
      },
      "outputs": [
        {
          "output_type": "execute_result",
          "data": {
            "text/plain": [
              "KMeans(n_clusters=4, random_state=0)"
            ]
          },
          "metadata": {},
          "execution_count": 10
        }
      ],
      "source": [
        "model.fit(X)  "
      ]
    },
    {
      "cell_type": "code",
      "execution_count": null,
      "metadata": {
        "id": "9LBt5ocjeg5r"
      },
      "outputs": [],
      "source": [
        "y_kmeans = model.predict(X)  "
      ]
    },
    {
      "cell_type": "code",
      "execution_count": null,
      "metadata": {
        "scrolled": true,
        "colab": {
          "base_uri": "https://localhost:8080/"
        },
        "id": "NxuWmdqmeg5s",
        "outputId": "01228868-5fbb-4975-d2c7-e91bea7911ae"
      },
      "outputs": [
        {
          "output_type": "execute_result",
          "data": {
            "text/plain": [
              "array([1, 1, 0, 3, 0, 1, 3, 3, 3, 0, 2, 2], dtype=int32)"
            ]
          },
          "metadata": {},
          "execution_count": 12
        }
      ],
      "source": [
        "y_kmeans[:12]  "
      ]
    },
    {
      "cell_type": "code",
      "execution_count": null,
      "metadata": {
        "colab": {
          "base_uri": "https://localhost:8080/",
          "height": 373
        },
        "id": "J2BdgOkaeg5s",
        "outputId": "819eda2a-de72-4a68-d0ea-86f1237e10c4"
      },
      "outputs": [
        {
          "output_type": "display_data",
          "data": {
            "text/plain": [
              "<Figure size 720x432 with 1 Axes>"
            ],
            "image/png": "[encoded data removed]"
          },
          "metadata": {
            "needs_background": "light"
          }
        }
      ],
      "source": [
        "plt.figure(figsize=(10, 6))\n",
        "plt.scatter(X[:, 0], X[:, 1], c=y_kmeans,  cmap='coolwarm');\n",
        "# plt.savefig('../../images/ch13/ml_plot_02.png');"
      ]
    },
    {
      "cell_type": "markdown",
      "metadata": {
        "id": "_3DT-nVweg5t"
      },
      "source": [
        "### Gaussian Mixtures"
      ]
    },
    {
      "cell_type": "code",
      "execution_count": null,
      "metadata": {
        "id": "gp2d5L66eg5t"
      },
      "outputs": [],
      "source": [
        "from sklearn.mixture import GaussianMixture"
      ]
    },
    {
      "cell_type": "code",
      "execution_count": null,
      "metadata": {
        "id": "Oj1gH7Gfeg5u"
      },
      "outputs": [],
      "source": [
        "model = GaussianMixture(n_components=4, random_state=0)"
      ]
    },
    {
      "cell_type": "code",
      "execution_count": null,
      "metadata": {
        "id": "nZF6CWRbeg5u",
        "outputId": "3ef22e27-7fff-4ec6-c363-2592f00f8135",
        "colab": {
          "base_uri": "https://localhost:8080/"
        }
      },
      "outputs": [
        {
          "output_type": "execute_result",
          "data": {
            "text/plain": [
              "GaussianMixture(n_components=4, random_state=0)"
            ]
          },
          "metadata": {},
          "execution_count": 16
        }
      ],
      "source": [
        "model.fit(X)"
      ]
    },
    {
      "cell_type": "code",
      "execution_count": null,
      "metadata": {
        "id": "h3uh-BRdeg5u"
      },
      "outputs": [],
      "source": [
        "y_gm = model.predict(X)"
      ]
    },
    {
      "cell_type": "code",
      "execution_count": null,
      "metadata": {
        "id": "su8TFCE8eg5v",
        "outputId": "147ee1d1-77ac-4f5e-c117-654b72920411",
        "colab": {
          "base_uri": "https://localhost:8080/"
        }
      },
      "outputs": [
        {
          "output_type": "execute_result",
          "data": {
            "text/plain": [
              "array([1, 1, 0, 3, 0, 1, 3, 3, 3, 0, 2, 2])"
            ]
          },
          "metadata": {},
          "execution_count": 18
        }
      ],
      "source": [
        "y_gm[:12]"
      ]
    },
    {
      "cell_type": "code",
      "execution_count": null,
      "metadata": {
        "id": "PTKFA0Hkeg5v",
        "outputId": "cdabf24f-a2f0-4c93-9cd9-6a66e5900269",
        "colab": {
          "base_uri": "https://localhost:8080/"
        }
      },
      "outputs": [
        {
          "output_type": "execute_result",
          "data": {
            "text/plain": [
              "True"
            ]
          },
          "metadata": {},
          "execution_count": 19
        }
      ],
      "source": [
        "(y_gm == y_kmeans).all()  "
      ]
    },
    {
      "cell_type": "markdown",
      "metadata": {
        "id": "yzfUloBbeg5w"
      },
      "source": [
        "## Supervised Learning"
      ]
    },
    {
      "cell_type": "markdown",
      "metadata": {
        "id": "bsG_bGE1eg5w"
      },
      "source": [
        "### The Data"
      ]
    },
    {
      "cell_type": "code",
      "execution_count": null,
      "metadata": {
        "id": "Yjb-87wPeg5w"
      },
      "outputs": [],
      "source": [
        "from sklearn.datasets import make_classification"
      ]
    },
    {
      "cell_type": "code",
      "execution_count": null,
      "metadata": {
        "id": "JMT0962Jeg5x"
      },
      "outputs": [],
      "source": [
        "n_samples = 100"
      ]
    },
    {
      "cell_type": "code",
      "execution_count": null,
      "metadata": {
        "id": "nN-2fKZReg5x"
      },
      "outputs": [],
      "source": [
        "X, y = make_classification(n_samples=n_samples, n_features=2, n_informative=2,\n",
        "                           n_redundant=0, n_repeated=0, random_state=250)"
      ]
    },
    {
      "cell_type": "code",
      "execution_count": null,
      "metadata": {
        "id": "90ORqfLDeg50",
        "outputId": "afb94697-27c0-4699-a234-e87f808ef958",
        "colab": {
          "base_uri": "https://localhost:8080/"
        }
      },
      "outputs": [
        {
          "output_type": "execute_result",
          "data": {
            "text/plain": [
              "array([[ 1.6876, -0.7976],\n",
              "       [-0.4312, -0.7606],\n",
              "       [-1.4393, -1.2363],\n",
              "       [ 1.118 , -1.8682],\n",
              "       [ 0.0502,  0.659 ]])"
            ]
          },
          "metadata": {},
          "execution_count": 25
        }
      ],
      "source": [
        "X[:5]  "
      ]
    },
    {
      "cell_type": "code",
      "execution_count": null,
      "metadata": {
        "id": "wXwV5txOeg51",
        "outputId": "c0900019-59f6-46a9-e813-ed5500336055",
        "colab": {
          "base_uri": "https://localhost:8080/"
        }
      },
      "outputs": [
        {
          "output_type": "execute_result",
          "data": {
            "text/plain": [
              "(100, 2)"
            ]
          },
          "metadata": {},
          "execution_count": 26
        }
      ],
      "source": [
        "X.shape  "
      ]
    },
    {
      "cell_type": "code",
      "execution_count": null,
      "metadata": {
        "id": "e-LEF3Greg51",
        "outputId": "22c30194-817a-4531-e56d-53ed20850865",
        "colab": {
          "base_uri": "https://localhost:8080/"
        }
      },
      "outputs": [
        {
          "output_type": "execute_result",
          "data": {
            "text/plain": [
              "array([1, 0, 0, 1, 1])"
            ]
          },
          "metadata": {},
          "execution_count": 27
        }
      ],
      "source": [
        "y[:5]  "
      ]
    },
    {
      "cell_type": "code",
      "execution_count": null,
      "metadata": {
        "id": "W7rrUouLeg52",
        "outputId": "3d8f5c25-16e2-4754-aae2-3e8146c5bd98",
        "colab": {
          "base_uri": "https://localhost:8080/"
        }
      },
      "outputs": [
        {
          "output_type": "execute_result",
          "data": {
            "text/plain": [
              "(100,)"
            ]
          },
          "metadata": {},
          "execution_count": 28
        }
      ],
      "source": [
        "y.shape  "
      ]
    },
    {
      "cell_type": "code",
      "execution_count": null,
      "metadata": {
        "id": "geFO56VPeg52",
        "outputId": "2344c468-f1fc-44ab-cb20-43e878118757",
        "colab": {
          "base_uri": "https://localhost:8080/",
          "height": 373
        }
      },
      "outputs": [
        {
          "output_type": "display_data",
          "data": {
            "text/plain": [
              "<Figure size 720x432 with 1 Axes>"
            ],
            "image/png": "[encoded data removed]"
          },
          "metadata": {
            "needs_background": "light"
          }
        }
      ],
      "source": [
        "plt.figure(figsize=(10, 6))\n",
        "plt.scatter(x=X[:, 0], y=X[:, 1], c=y, cmap='coolwarm');\n",
        "# plt.savefig('../../images/ch13/ml_plot_03.png')"
      ]
    },
    {
      "cell_type": "markdown",
      "metadata": {
        "id": "lA79_L6Neg52"
      },
      "source": [
        "### Gaussian Naive Bayes"
      ]
    },
    {
      "cell_type": "code",
      "execution_count": null,
      "metadata": {
        "id": "FEVVANs4eg53"
      },
      "outputs": [],
      "source": [
        "from sklearn.naive_bayes import GaussianNB\n",
        "from sklearn.metrics import accuracy_score"
      ]
    },
    {
      "cell_type": "code",
      "execution_count": null,
      "metadata": {
        "id": "8-_m5Hhreg53"
      },
      "outputs": [],
      "source": [
        "model = GaussianNB()"
      ]
    },
    {
      "cell_type": "code",
      "execution_count": null,
      "metadata": {
        "id": "HfblNhZ2eg53",
        "outputId": "13782e6a-5241-40b8-bff0-2dadf3ab4ef8",
        "colab": {
          "base_uri": "https://localhost:8080/"
        }
      },
      "outputs": [
        {
          "output_type": "execute_result",
          "data": {
            "text/plain": [
              "GaussianNB()"
            ]
          },
          "metadata": {},
          "execution_count": 32
        }
      ],
      "source": [
        "model.fit(X, y)"
      ]
    },
    {
      "cell_type": "code",
      "execution_count": null,
      "metadata": {
        "id": "EUGzSIXOeg54",
        "outputId": "d49fe162-b832-477e-ff44-c2e8d63f8e20",
        "colab": {
          "base_uri": "https://localhost:8080/"
        }
      },
      "outputs": [
        {
          "output_type": "execute_result",
          "data": {
            "text/plain": [
              "array([[0.0041, 0.9959],\n",
              "       [0.8534, 0.1466],\n",
              "       [0.9947, 0.0053],\n",
              "       [0.0182, 0.9818],\n",
              "       [0.5156, 0.4844]])"
            ]
          },
          "metadata": {},
          "execution_count": 33
        }
      ],
      "source": [
        "model.predict_proba(X).round(4)[:5]  "
      ]
    },
    {
      "cell_type": "code",
      "execution_count": null,
      "metadata": {
        "id": "6xriotFOeg54"
      },
      "outputs": [],
      "source": [
        "pred = model.predict(X)  "
      ]
    },
    {
      "cell_type": "code",
      "execution_count": null,
      "metadata": {
        "id": "RJf61dKPeg54",
        "outputId": "407cc1cf-f6fc-40e1-e78c-850bd0902df5",
        "colab": {
          "base_uri": "https://localhost:8080/"
        }
      },
      "outputs": [
        {
          "output_type": "execute_result",
          "data": {
            "text/plain": [
              "array([1, 0, 0, 1, 0, 0, 1, 1, 1, 0, 0, 0, 0, 0, 1, 1, 0, 1, 0, 1, 1, 0,\n",
              "       0, 0, 1, 0, 0, 0, 0, 0, 1, 0, 1, 1, 0, 0, 0, 1, 1, 0, 1, 0, 0, 0,\n",
              "       0, 1, 1, 1, 0, 0, 1, 0, 0, 1, 1, 1, 1, 1, 0, 0, 0, 1, 1, 1, 1, 0,\n",
              "       0, 0, 1, 0, 0, 1, 1, 1, 1, 1, 1, 0, 0, 1, 0, 0, 0, 1, 0, 0, 0, 1,\n",
              "       0, 1, 1, 1, 1, 1, 0, 0, 0, 0, 0, 0])"
            ]
          },
          "metadata": {},
          "execution_count": 35
        }
      ],
      "source": [
        "pred  "
      ]
    },
    {
      "cell_type": "code",
      "execution_count": null,
      "metadata": {
        "id": "F9yEJj_Jeg54",
        "outputId": "d13a084f-af39-4ee2-f456-5c83a9611cf3",
        "colab": {
          "base_uri": "https://localhost:8080/"
        }
      },
      "outputs": [
        {
          "output_type": "execute_result",
          "data": {
            "text/plain": [
              "array([ True,  True,  True,  True, False,  True,  True,  True,  True,\n",
              "        True, False,  True,  True,  True,  True,  True,  True,  True,\n",
              "        True,  True,  True,  True, False, False, False,  True,  True,\n",
              "        True,  True,  True,  True,  True,  True, False,  True,  True,\n",
              "        True,  True,  True,  True,  True,  True,  True,  True,  True,\n",
              "        True,  True,  True,  True,  True,  True, False,  True, False,\n",
              "        True,  True,  True,  True,  True,  True,  True,  True,  True,\n",
              "        True,  True, False,  True,  True,  True,  True,  True,  True,\n",
              "        True,  True,  True,  True,  True,  True, False,  True, False,\n",
              "        True,  True,  True,  True,  True,  True,  True,  True,  True,\n",
              "        True,  True, False,  True, False,  True,  True,  True,  True,\n",
              "        True])"
            ]
          },
          "metadata": {},
          "execution_count": 36
        }
      ],
      "source": [
        "pred == y  "
      ]
    },
    {
      "cell_type": "code",
      "execution_count": null,
      "metadata": {
        "id": "JbIteQjLeg55",
        "outputId": "8972dd76-354c-403d-8d7f-926935e107f2",
        "colab": {
          "base_uri": "https://localhost:8080/"
        }
      },
      "outputs": [
        {
          "output_type": "execute_result",
          "data": {
            "text/plain": [
              "0.87"
            ]
          },
          "metadata": {},
          "execution_count": 37
        }
      ],
      "source": [
        "accuracy_score(y, pred)  "
      ]
    },
    {
      "cell_type": "code",
      "execution_count": null,
      "metadata": {
        "id": "beaehnC5eg55"
      },
      "outputs": [],
      "source": [
        "Xc = X[y == pred]  \n",
        "Xf = X[y != pred]  "
      ]
    },
    {
      "cell_type": "code",
      "execution_count": null,
      "metadata": {
        "id": "hmHZFfuzeg55",
        "outputId": "989a294d-9e3f-47af-fd3e-b7cc44b2ebc4",
        "colab": {
          "base_uri": "https://localhost:8080/",
          "height": 390
        }
      },
      "outputs": [
        {
          "output_type": "execute_result",
          "data": {
            "text/plain": [
              "<matplotlib.collections.PathCollection at 0x7f931c5d3810>"
            ]
          },
          "metadata": {},
          "execution_count": 39
        },
        {
          "output_type": "display_data",
          "data": {
            "text/plain": [
              "<Figure size 720x432 with 1 Axes>"
            ],
            "image/png": "[encoded data removed]"
          },
          "metadata": {
            "needs_background": "light"
          }
        }
      ],
      "source": [
        "plt.figure(figsize=(10, 6))\n",
        "plt.scatter(x=Xc[:, 0], y=Xc[:, 1], c=y[y == pred],\n",
        "            marker='o', cmap='coolwarm')  \n",
        "plt.scatter(x=Xf[:, 0], y=Xf[:, 1], c=y[y != pred],\n",
        "            marker='x', cmap='coolwarm')  \n",
        "# plt.savefig('../../images/ch13/ml_plot_04.png')"
      ]
    },
    {
      "cell_type": "markdown",
      "metadata": {
        "id": "YGtyAlHweg55"
      },
      "source": [
        "### Logistic Regression"
      ]
    },
    {
      "cell_type": "code",
      "execution_count": null,
      "metadata": {
        "id": "G-YfYtTieg56"
      },
      "outputs": [],
      "source": [
        "from sklearn.linear_model import LogisticRegression"
      ]
    },
    {
      "cell_type": "code",
      "execution_count": null,
      "metadata": {
        "id": "fcDNJB1Teg56"
      },
      "outputs": [],
      "source": [
        "model = LogisticRegression(C=1)"
      ]
    },
    {
      "cell_type": "code",
      "execution_count": null,
      "metadata": {
        "id": "oRIlbQwReg56",
        "outputId": "42a0fba1-0045-4a20-ae2a-c6bed7116f96",
        "colab": {
          "base_uri": "https://localhost:8080/"
        }
      },
      "outputs": [
        {
          "output_type": "execute_result",
          "data": {
            "text/plain": [
              "LogisticRegression(C=1)"
            ]
          },
          "metadata": {},
          "execution_count": 42
        }
      ],
      "source": [
        "model.fit(X, y)"
      ]
    },
    {
      "cell_type": "code",
      "execution_count": null,
      "metadata": {
        "id": "Zb7ZIPlUeg56",
        "outputId": "a7f30c9d-7dfc-4cfc-c249-be814703703f",
        "colab": {
          "base_uri": "https://localhost:8080/"
        }
      },
      "outputs": [
        {
          "output_type": "execute_result",
          "data": {
            "text/plain": [
              "array([[0.011 , 0.989 ],\n",
              "       [0.7266, 0.2734],\n",
              "       [0.971 , 0.029 ],\n",
              "       [0.04  , 0.96  ],\n",
              "       [0.4843, 0.5157]])"
            ]
          },
          "metadata": {},
          "execution_count": 43
        }
      ],
      "source": [
        "model.predict_proba(X).round(4)[:5]"
      ]
    },
    {
      "cell_type": "code",
      "execution_count": null,
      "metadata": {
        "id": "FlAq-ZOxeg57"
      },
      "outputs": [],
      "source": [
        "pred = model.predict(X)"
      ]
    },
    {
      "cell_type": "code",
      "execution_count": null,
      "metadata": {
        "id": "WHGgY-xQeg57",
        "outputId": "495d3a07-2465-4730-e01d-2ae2a9e77981",
        "colab": {
          "base_uri": "https://localhost:8080/"
        }
      },
      "outputs": [
        {
          "output_type": "execute_result",
          "data": {
            "text/plain": [
              "0.9"
            ]
          },
          "metadata": {},
          "execution_count": 45
        }
      ],
      "source": [
        "accuracy_score(y, pred)"
      ]
    },
    {
      "cell_type": "code",
      "execution_count": null,
      "metadata": {
        "id": "9vqw0ya7eg57"
      },
      "outputs": [],
      "source": [
        "Xc = X[y == pred]\n",
        "Xf = X[y != pred]"
      ]
    },
    {
      "cell_type": "code",
      "execution_count": null,
      "metadata": {
        "id": "nG0X94Faeg57",
        "outputId": "bfbccf4c-6a53-48db-b1aa-a5e362f4750c",
        "colab": {
          "base_uri": "https://localhost:8080/",
          "height": 373
        }
      },
      "outputs": [
        {
          "output_type": "display_data",
          "data": {
            "text/plain": [
              "<Figure size 720x432 with 1 Axes>"
            ],
            "image/png": "[encoded data removed]"
          },
          "metadata": {
            "needs_background": "light"
          }
        }
      ],
      "source": [
        "plt.figure(figsize=(10, 6))\n",
        "plt.scatter(x=Xc[:, 0], y=Xc[:, 1], c=y[y == pred],\n",
        "            marker='o', cmap='coolwarm')\n",
        "plt.scatter(x=Xf[:, 0], y=Xf[:, 1], c=y[y != pred],\n",
        "            marker='x', cmap='coolwarm');"
      ]
    },
    {
      "cell_type": "markdown",
      "metadata": {
        "id": "nR6-gHogeg57"
      },
      "source": [
        "### Decision Tree"
      ]
    },
    {
      "cell_type": "code",
      "execution_count": null,
      "metadata": {
        "id": "L0LuDp0Keg58"
      },
      "outputs": [],
      "source": [
        "from sklearn.tree import DecisionTreeClassifier"
      ]
    },
    {
      "cell_type": "code",
      "execution_count": null,
      "metadata": {
        "id": "5guc_jMPeg58"
      },
      "outputs": [],
      "source": [
        "model = DecisionTreeClassifier(max_depth=1)"
      ]
    },
    {
      "cell_type": "code",
      "execution_count": null,
      "metadata": {
        "id": "As4WsbxCeg58",
        "outputId": "75d85e04-86e0-4ba9-aa46-b14606c12dbe",
        "colab": {
          "base_uri": "https://localhost:8080/"
        }
      },
      "outputs": [
        {
          "output_type": "execute_result",
          "data": {
            "text/plain": [
              "DecisionTreeClassifier(max_depth=1)"
            ]
          },
          "metadata": {},
          "execution_count": 50
        }
      ],
      "source": [
        "model.fit(X, y)"
      ]
    },
    {
      "cell_type": "code",
      "execution_count": null,
      "metadata": {
        "id": "D6ncRRJfeg58",
        "outputId": "483d5f69-de91-49d7-af94-c49c7b5d8e29",
        "colab": {
          "base_uri": "https://localhost:8080/"
        }
      },
      "outputs": [
        {
          "output_type": "execute_result",
          "data": {
            "text/plain": [
              "array([[0.08, 0.92],\n",
              "       [0.92, 0.08],\n",
              "       [0.92, 0.08],\n",
              "       [0.08, 0.92],\n",
              "       [0.08, 0.92]])"
            ]
          },
          "metadata": {},
          "execution_count": 51
        }
      ],
      "source": [
        "model.predict_proba(X).round(4)[:5]"
      ]
    },
    {
      "cell_type": "code",
      "execution_count": null,
      "metadata": {
        "id": "hM3S3O1Peg59",
        "colab": {
          "base_uri": "https://localhost:8080/"
        },
        "outputId": "53db0b6b-9164-4f56-dd3a-9ee332117a97"
      },
      "outputs": [
        {
          "output_type": "execute_result",
          "data": {
            "text/plain": [
              "array([1, 0, 0, 1, 1, 0, 1, 1, 1, 0, 1, 0, 0, 0, 1, 1, 0, 1, 0, 1, 1, 0,\n",
              "       0, 0, 1, 0, 0, 0, 0, 0, 1, 0, 1, 1, 0, 0, 0, 1, 1, 0, 1, 0, 0, 0,\n",
              "       0, 1, 1, 1, 0, 0, 1, 1, 0, 1, 1, 1, 1, 1, 0, 0, 0, 1, 1, 1, 1, 1,\n",
              "       0, 0, 1, 0, 0, 1, 1, 1, 1, 1, 1, 0, 0, 1, 1, 0, 0, 1, 0, 0, 0, 1,\n",
              "       0, 1, 1, 1, 1, 1, 0, 0, 0, 0, 0, 0])"
            ]
          },
          "metadata": {},
          "execution_count": 53
        }
      ],
      "source": [
        "pred = model.predict(X)\n",
        "pred"
      ]
    },
    {
      "cell_type": "code",
      "execution_count": null,
      "metadata": {
        "id": "ISdEg4yDeg59",
        "outputId": "789b4e5e-f12c-483e-8312-bda7f0d5fe28",
        "colab": {
          "base_uri": "https://localhost:8080/"
        }
      },
      "outputs": [
        {
          "output_type": "execute_result",
          "data": {
            "text/plain": [
              "0.92"
            ]
          },
          "metadata": {},
          "execution_count": 54
        }
      ],
      "source": [
        "accuracy_score(y, pred)"
      ]
    },
    {
      "cell_type": "code",
      "execution_count": null,
      "metadata": {
        "id": "2_VqFQsNeg59"
      },
      "outputs": [],
      "source": [
        "Xc = X[y == pred]\n",
        "Xf = X[y != pred]"
      ]
    },
    {
      "cell_type": "code",
      "execution_count": null,
      "metadata": {
        "id": "X6JaP8K3eg59",
        "outputId": "baebe188-4c2a-48ed-b347-b00629a9157e",
        "colab": {
          "base_uri": "https://localhost:8080/",
          "height": 373
        }
      },
      "outputs": [
        {
          "output_type": "display_data",
          "data": {
            "text/plain": [
              "<Figure size 720x432 with 1 Axes>"
            ],
            "image/png": "[encoded data removed]"
          },
          "metadata": {
            "needs_background": "light"
          }
        }
      ],
      "source": [
        "plt.figure(figsize=(10, 6))\n",
        "plt.scatter(x=Xc[:, 0], y=Xc[:, 1], c=y[y == pred],\n",
        "            marker='o', cmap='coolwarm')\n",
        "plt.scatter(x=Xf[:, 0], y=Xf[:, 1], c=y[y != pred],\n",
        "            marker='x', cmap='coolwarm');\n",
        "# plt.savefig('../../images/ch13/ml_plot_05.png')"
      ]
    },
    {
      "cell_type": "code",
      "execution_count": null,
      "metadata": {
        "id": "WqnPlNCDeg5-",
        "outputId": "50b2cc44-6247-4936-e4e7-9c985d301db5",
        "colab": {
          "base_uri": "https://localhost:8080/"
        }
      },
      "outputs": [
        {
          "output_type": "stream",
          "name": "stdout",
          "text": [
            "   depth | accuracy\n",
            "--------------------\n",
            "       1 |     0.92\n",
            "       2 |     0.92\n",
            "       3 |     0.94\n",
            "       4 |     0.97\n",
            "       5 |     0.99\n",
            "       6 |     1.00\n"
          ]
        }
      ],
      "source": [
        "print('{:>8s} | {:8s}'.format('depth', 'accuracy'))\n",
        "print(20 * '-')\n",
        "for depth in range(1, 7):\n",
        "    model = DecisionTreeClassifier(max_depth=depth)\n",
        "    model.fit(X, y)\n",
        "    acc = accuracy_score(y, model.predict(X))\n",
        "    print('{:8d} | {:8.2f}'.format(depth, acc))"
      ]
    },
    {
      "cell_type": "markdown",
      "metadata": {
        "id": "ibQml09Ueg6A"
      },
      "source": [
        "### Deep Neural Network"
      ]
    },
    {
      "cell_type": "markdown",
      "metadata": {
        "id": "xJdLgc9Veg6A"
      },
      "source": [
        "#### scikit-learn"
      ]
    },
    {
      "cell_type": "code",
      "execution_count": null,
      "metadata": {
        "id": "uqY3Ocnteg6A"
      },
      "outputs": [],
      "source": [
        "from sklearn.neural_network import MLPClassifier"
      ]
    },
    {
      "cell_type": "code",
      "execution_count": null,
      "metadata": {
        "id": "WW5zq5Jreg6A"
      },
      "outputs": [],
      "source": [
        "model = MLPClassifier(solver='lbfgs', alpha=1e-5,\n",
        "                    hidden_layer_sizes=2 * [75], random_state=10)"
      ]
    },
    {
      "cell_type": "code",
      "execution_count": null,
      "metadata": {
        "id": "zwXn53sZeg6B",
        "outputId": "84cc278d-1d78-4c02-824d-a19cd2b95769",
        "colab": {
          "base_uri": "https://localhost:8080/"
        }
      },
      "outputs": [
        {
          "output_type": "stream",
          "name": "stdout",
          "text": [
            "CPU times: user 579 ms, sys: 487 ms, total: 1.07 s\n",
            "Wall time: 547 ms\n"
          ]
        },
        {
          "output_type": "execute_result",
          "data": {
            "text/plain": [
              "MLPClassifier(alpha=1e-05, hidden_layer_sizes=[75, 75], random_state=10,\n",
              "              solver='lbfgs')"
            ]
          },
          "metadata": {},
          "execution_count": 60
        }
      ],
      "source": [
        "%time model.fit(X, y)"
      ]
    },
    {
      "cell_type": "code",
      "execution_count": null,
      "metadata": {
        "id": "DUgvNZ9eeg6B",
        "outputId": "de737d6c-1fb3-4968-d02f-8c91c8689bab",
        "colab": {
          "base_uri": "https://localhost:8080/"
        }
      },
      "outputs": [
        {
          "output_type": "execute_result",
          "data": {
            "text/plain": [
              "array([1, 0, 0, 1, 1, 0, 1, 1, 1, 0, 1, 0, 0, 0, 1, 1, 0, 1, 0, 1, 1, 0,\n",
              "       1, 1, 0, 0, 0, 0, 0, 0, 1, 0, 1, 0, 0, 0, 0, 1, 1, 0, 1, 0, 0, 0,\n",
              "       0, 1, 1, 1, 0, 0, 1, 1, 0, 0, 1, 1, 1, 1, 0, 0, 0, 1, 1, 1, 1, 1,\n",
              "       0, 0, 1, 0, 0, 1, 1, 1, 1, 1, 1, 0, 1, 1, 1, 0, 0, 1, 0, 0, 0, 1,\n",
              "       0, 1, 1, 1, 0, 1, 1, 0, 0, 0, 0, 0])"
            ]
          },
          "metadata": {},
          "execution_count": 61
        }
      ],
      "source": [
        "pred = model.predict(X)\n",
        "pred"
      ]
    },
    {
      "cell_type": "code",
      "execution_count": null,
      "metadata": {
        "id": "46mbLl8seg6B",
        "outputId": "208da4d6-5c46-4d65-90f3-839fd5488fe3",
        "colab": {
          "base_uri": "https://localhost:8080/"
        }
      },
      "outputs": [
        {
          "output_type": "execute_result",
          "data": {
            "text/plain": [
              "1.0"
            ]
          },
          "metadata": {},
          "execution_count": 62
        }
      ],
      "source": [
        "accuracy_score(y, pred)"
      ]
    },
    {
      "cell_type": "markdown",
      "metadata": {
        "id": "aIiV5bYseg6C"
      },
      "source": [
        "#### Keras (instead of TensorFlow 1.x example)"
      ]
    },
    {
      "cell_type": "code",
      "execution_count": null,
      "metadata": {
        "id": "-sVwPKQPeg6C"
      },
      "outputs": [],
      "source": [
        "import tensorflow as tf\n",
        "from tensorflow.keras.layers import Dense\n",
        "from tensorflow.keras.models import Sequential"
      ]
    },
    {
      "cell_type": "code",
      "execution_count": null,
      "metadata": {
        "id": "NNjIyhHdeg6C"
      },
      "outputs": [],
      "source": [
        "tf.random.set_seed(1)\n",
        "np.random.seed(1)"
      ]
    },
    {
      "cell_type": "code",
      "execution_count": null,
      "metadata": {
        "id": "mScNfyAGeg6C"
      },
      "outputs": [],
      "source": [
        "features = 2"
      ]
    },
    {
      "cell_type": "code",
      "execution_count": null,
      "metadata": {
        "id": "PI2ba93Ceg6C"
      },
      "outputs": [],
      "source": [
        "model = Sequential()\n",
        "model.add(Dense(64, activation='relu', input_dim=features))\n",
        "model.add(Dense(1, activation='sigmoid'))\n",
        "model.compile(loss='binary_crossentropy', optimizer='rmsprop',\n",
        "              metrics=['accuracy'])"
      ]
    },
    {
      "cell_type": "code",
      "execution_count": null,
      "metadata": {
        "id": "R-mZ4q1yeg6D",
        "outputId": "aba1ae44-4163-4b45-a0d3-599e264fe07b",
        "colab": {
          "base_uri": "https://localhost:8080/"
        }
      },
      "outputs": [
        {
          "output_type": "execute_result",
          "data": {
            "text/plain": [
              "array([[ 1.6876, -0.7976],\n",
              "       [-0.4312, -0.7606],\n",
              "       [-1.4393, -1.2363],\n",
              "       [ 1.118 , -1.8682],\n",
              "       [ 0.0502,  0.659 ]])"
            ]
          },
          "metadata": {},
          "execution_count": 67
        }
      ],
      "source": [
        "X[:5]"
      ]
    },
    {
      "cell_type": "code",
      "execution_count": null,
      "metadata": {
        "id": "fk04KWi_eg6D",
        "outputId": "f8a3bf20-9138-4cb2-8412-ee79fcd02fd4",
        "colab": {
          "base_uri": "https://localhost:8080/"
        }
      },
      "outputs": [
        {
          "output_type": "execute_result",
          "data": {
            "text/plain": [
              "<keras.callbacks.History at 0x7f92afc08110>"
            ]
          },
          "metadata": {},
          "execution_count": 68
        }
      ],
      "source": [
        "model.fit(X, y, epochs=50, verbose=False)"
      ]
    },
    {
      "cell_type": "code",
      "execution_count": null,
      "metadata": {
        "id": "sXDsc0NWeg6D",
        "outputId": "7e8b075e-ab4a-4b2b-8e69-2940046d15ef",
        "colab": {
          "base_uri": "https://localhost:8080/"
        }
      },
      "outputs": [
        {
          "output_type": "stream",
          "name": "stdout",
          "text": [
            "4/4 [==============================] - 0s 3ms/step - loss: 0.2449 - accuracy: 0.9100\n"
          ]
        },
        {
          "output_type": "execute_result",
          "data": {
            "text/plain": [
              "[0.24486945569515228, 0.9100000262260437]"
            ]
          },
          "metadata": {},
          "execution_count": 69
        }
      ],
      "source": [
        "model.evaluate(X, y)"
      ]
    },
    {
      "cell_type": "code",
      "execution_count": null,
      "metadata": {
        "id": "ksKC_CFyeg6E"
      },
      "outputs": [],
      "source": [
        "pred = np.where(model.predict(X) > 0.5, 1, 0)"
      ]
    },
    {
      "cell_type": "code",
      "execution_count": null,
      "metadata": {
        "id": "UgNUOwiweg6H",
        "outputId": "324ab29b-ab92-4de8-8569-55f6dedcb031",
        "colab": {
          "base_uri": "https://localhost:8080/"
        }
      },
      "outputs": [
        {
          "output_type": "execute_result",
          "data": {
            "text/plain": [
              "array([1, 0, 0, 1, 1, 0, 1, 1, 1, 0, 1, 0, 0, 0, 1, 1, 0, 1, 0, 1, 1, 0,\n",
              "       0, 0, 1, 0, 0, 0, 0, 0, 1, 0, 1, 1, 0, 0, 0, 1, 1, 0, 1, 0, 0, 0,\n",
              "       0, 1, 1, 1, 0, 0, 1, 1, 0, 1, 1, 1, 1, 1, 0, 0, 0, 1, 1, 1, 1, 1,\n",
              "       0, 0, 1, 0, 0, 1, 1, 1, 1, 1, 1, 0, 0, 1, 0, 0, 0, 1, 0, 0, 0, 1,\n",
              "       0, 1, 1, 1, 1, 1, 0, 0, 0, 0, 0, 0])"
            ]
          },
          "metadata": {},
          "execution_count": 71
        }
      ],
      "source": [
        "pred.flatten()"
      ]
    },
    {
      "cell_type": "markdown",
      "metadata": {
        "id": "DkIXBndNeg6H"
      },
      "source": [
        "## Feature Transforms"
      ]
    },
    {
      "cell_type": "code",
      "execution_count": null,
      "metadata": {
        "id": "3D7fBcZueg6H"
      },
      "outputs": [],
      "source": [
        "from sklearn import preprocessing"
      ]
    },
    {
      "cell_type": "code",
      "execution_count": null,
      "metadata": {
        "id": "kYDoZ_Poeg6I",
        "outputId": "ad2589fd-5d70-4c25-82d7-b1e4b99e389a",
        "colab": {
          "base_uri": "https://localhost:8080/"
        }
      },
      "outputs": [
        {
          "output_type": "execute_result",
          "data": {
            "text/plain": [
              "array([[ 1.6876, -0.7976],\n",
              "       [-0.4312, -0.7606],\n",
              "       [-1.4393, -1.2363],\n",
              "       [ 1.118 , -1.8682],\n",
              "       [ 0.0502,  0.659 ]])"
            ]
          },
          "metadata": {},
          "execution_count": 74
        }
      ],
      "source": [
        "X[:5]"
      ]
    },
    {
      "cell_type": "code",
      "execution_count": null,
      "metadata": {
        "id": "9Xii523zeg6I",
        "outputId": "1bd13ae5-a1d0-4eec-f827-48c878231f7e",
        "colab": {
          "base_uri": "https://localhost:8080/"
        }
      },
      "outputs": [
        {
          "output_type": "execute_result",
          "data": {
            "text/plain": [
              "array([[ 1.2881, -0.5489],\n",
              "       [-0.3384, -0.5216],\n",
              "       [-1.1122, -0.873 ],\n",
              "       [ 0.8509, -1.3399],\n",
              "       [ 0.0312,  0.5273]])"
            ]
          },
          "metadata": {},
          "execution_count": 75
        }
      ],
      "source": [
        "Xs = preprocessing.StandardScaler().fit_transform(X)  \n",
        "Xs[:5]"
      ]
    },
    {
      "cell_type": "code",
      "execution_count": null,
      "metadata": {
        "id": "QNhgab8meg6I",
        "outputId": "e775f0a2-8af0-4c1a-d68f-c6a635825631",
        "colab": {
          "base_uri": "https://localhost:8080/"
        }
      },
      "outputs": [
        {
          "output_type": "execute_result",
          "data": {
            "text/plain": [
              "array([[0.7262, 0.3563],\n",
              "       [0.3939, 0.3613],\n",
              "       [0.2358, 0.2973],\n",
              "       [0.6369, 0.2122],\n",
              "       [0.4694, 0.5523]])"
            ]
          },
          "metadata": {},
          "execution_count": 76
        }
      ],
      "source": [
        "Xm = preprocessing.MinMaxScaler().fit_transform(X)  \n",
        "Xm[:5]"
      ]
    },
    {
      "cell_type": "code",
      "execution_count": null,
      "metadata": {
        "id": "0D-tRIsOeg6I",
        "outputId": "dd3dafc0-adbb-4c3a-9271-ec931441f8a2",
        "colab": {
          "base_uri": "https://localhost:8080/"
        }
      },
      "outputs": [
        {
          "output_type": "execute_result",
          "data": {
            "text/plain": [
              "array([[ 0.6791, -0.3209],\n",
              "       [-0.3618, -0.6382],\n",
              "       [-0.5379, -0.4621],\n",
              "       [ 0.3744, -0.6256],\n",
              "       [ 0.0708,  0.9292]])"
            ]
          },
          "metadata": {},
          "execution_count": 77
        }
      ],
      "source": [
        "Xn1 = preprocessing.Normalizer(norm='l1').transform(X)  \n",
        "Xn1[:5]"
      ]
    },
    {
      "cell_type": "code",
      "execution_count": null,
      "metadata": {
        "id": "yl2tgMlgeg6J",
        "outputId": "542ed4da-273c-45a7-d7b5-81d92561b709",
        "colab": {
          "base_uri": "https://localhost:8080/"
        }
      },
      "outputs": [
        {
          "output_type": "execute_result",
          "data": {
            "text/plain": [
              "array([[ 0.9041, -0.4273],\n",
              "       [-0.4932, -0.8699],\n",
              "       [-0.7586, -0.6516],\n",
              "       [ 0.5135, -0.8581],\n",
              "       [ 0.076 ,  0.9971]])"
            ]
          },
          "metadata": {},
          "execution_count": 78
        }
      ],
      "source": [
        "Xn2 = preprocessing.Normalizer(norm='l2').transform(X)  \n",
        "Xn2[:5]"
      ]
    },
    {
      "cell_type": "code",
      "execution_count": null,
      "metadata": {
        "id": "yN47nHLBeg6J",
        "outputId": "17dedfcc-7600-4661-a0d1-20dfb6b258d9",
        "colab": {
          "base_uri": "https://localhost:8080/",
          "height": 373
        }
      },
      "outputs": [
        {
          "output_type": "display_data",
          "data": {
            "text/plain": [
              "<Figure size 720x432 with 1 Axes>"
            ],
            "image/png": "[encoded data removed]"
          },
          "metadata": {
            "needs_background": "light"
          }
        }
      ],
      "source": [
        "plt.figure(figsize=(10, 6))\n",
        "markers = ['o', '.', 'x', '^', 'v']\n",
        "data_sets = [X, Xs, Xm, Xn1, Xn2]\n",
        "labels = ['raw', 'standard', 'minmax', 'norm(1)', 'norm(2)']\n",
        "for x, m, l in zip(data_sets, markers, labels):\n",
        "    plt.scatter(x=x[:, 0], y=x[:, 1], c=y,\n",
        "            marker=m, cmap='coolwarm', label=l)\n",
        "plt.legend();\n",
        "# plt.savefig('../../images/ch13/ml_plot_06.png');"
      ]
    },
    {
      "cell_type": "code",
      "execution_count": null,
      "metadata": {
        "id": "r055lU2Aeg6J",
        "outputId": "8b7c39d8-4f9c-4a32-963a-f5f7d09a5d0e",
        "colab": {
          "base_uri": "https://localhost:8080/"
        }
      },
      "outputs": [
        {
          "output_type": "execute_result",
          "data": {
            "text/plain": [
              "array([[ 1.6876, -0.7976],\n",
              "       [-0.4312, -0.7606],\n",
              "       [-1.4393, -1.2363],\n",
              "       [ 1.118 , -1.8682],\n",
              "       [ 0.0502,  0.659 ]])"
            ]
          },
          "metadata": {},
          "execution_count": 80
        }
      ],
      "source": [
        "X[:5]"
      ]
    },
    {
      "cell_type": "code",
      "execution_count": null,
      "metadata": {
        "id": "xcm5V-zVeg6K",
        "outputId": "861b3a11-5971-4212-d1d4-d1282cdd48d1",
        "colab": {
          "base_uri": "https://localhost:8080/"
        }
      },
      "outputs": [
        {
          "output_type": "execute_result",
          "data": {
            "text/plain": [
              "array([[1., 0.],\n",
              "       [0., 0.],\n",
              "       [0., 0.],\n",
              "       [1., 0.],\n",
              "       [1., 1.]])"
            ]
          },
          "metadata": {},
          "execution_count": 81
        }
      ],
      "source": [
        "Xb = preprocessing.Binarizer().fit_transform(X)  \n",
        "Xb[:5]"
      ]
    },
    {
      "cell_type": "code",
      "execution_count": null,
      "metadata": {
        "id": "Tmpz_PBpeg6K",
        "outputId": "6e96098a-768c-4799-9dd0-9a7eda3ddf1f",
        "colab": {
          "base_uri": "https://localhost:8080/"
        }
      },
      "outputs": [
        {
          "output_type": "execute_result",
          "data": {
            "text/plain": [
              "4"
            ]
          },
          "metadata": {},
          "execution_count": 82
        }
      ],
      "source": [
        "2 ** 2  "
      ]
    },
    {
      "cell_type": "code",
      "execution_count": null,
      "metadata": {
        "id": "wAVmsdEyeg6K",
        "outputId": "46ab2f66-cb3a-40a6-bcbb-abc05bb6212c",
        "colab": {
          "base_uri": "https://localhost:8080/"
        }
      },
      "outputs": [
        {
          "output_type": "execute_result",
          "data": {
            "text/plain": [
              "array([[3, 1],\n",
              "       [1, 1],\n",
              "       [0, 0],\n",
              "       [3, 0],\n",
              "       [2, 2]])"
            ]
          },
          "metadata": {},
          "execution_count": 83
        }
      ],
      "source": [
        "Xd = np.digitize(X, bins=[-1, 0, 1])  \n",
        "Xd[:5]"
      ]
    },
    {
      "cell_type": "code",
      "execution_count": null,
      "metadata": {
        "id": "vmm9nhqGeg6L",
        "outputId": "d8fc9cc1-80fd-46f8-8c50-96aa5aa512a5",
        "colab": {
          "base_uri": "https://localhost:8080/"
        }
      },
      "outputs": [
        {
          "output_type": "execute_result",
          "data": {
            "text/plain": [
              "16"
            ]
          },
          "metadata": {},
          "execution_count": 84
        }
      ],
      "source": [
        "4 ** 2  "
      ]
    },
    {
      "cell_type": "markdown",
      "metadata": {
        "id": "3vdsSZSveg6L"
      },
      "source": [
        "## Train-Test Splits "
      ]
    },
    {
      "cell_type": "code",
      "execution_count": 86,
      "metadata": {
        "id": "jrq0F6Jheg6L"
      },
      "outputs": [],
      "source": [
        "from sklearn.svm import SVC\n",
        "from sklearn.model_selection import train_test_split"
      ]
    },
    {
      "cell_type": "code",
      "execution_count": 87,
      "metadata": {
        "id": "B6Gm5UGBeg6L"
      },
      "outputs": [],
      "source": [
        "train_x, test_x, train_y, test_y = train_test_split(X, y, test_size=0.33,\n",
        "                                                    random_state=0)"
      ]
    },
    {
      "cell_type": "code",
      "execution_count": 88,
      "metadata": {
        "id": "ZrTaZjsFeg6N"
      },
      "outputs": [],
      "source": [
        "model = SVC(C=1, kernel='linear')"
      ]
    },
    {
      "cell_type": "code",
      "execution_count": 89,
      "metadata": {
        "id": "qWMnxn4leg6N",
        "outputId": "6e317e2e-5a1f-4150-988b-816a674c50c7",
        "colab": {
          "base_uri": "https://localhost:8080/"
        }
      },
      "outputs": [
        {
          "output_type": "execute_result",
          "data": {
            "text/plain": [
              "SVC(C=1, kernel='linear')"
            ]
          },
          "metadata": {},
          "execution_count": 89
        }
      ],
      "source": [
        "model.fit(train_x, train_y)  "
      ]
    },
    {
      "cell_type": "code",
      "execution_count": 90,
      "metadata": {
        "id": "Y0W2ikSeeg6O"
      },
      "outputs": [],
      "source": [
        "pred_train = model.predict(train_x)  "
      ]
    },
    {
      "cell_type": "code",
      "execution_count": 91,
      "metadata": {
        "scrolled": true,
        "id": "OK_ZhFpneg6O",
        "outputId": "0349e02b-18e6-4fbd-eab9-e4f6b61bb2e5",
        "colab": {
          "base_uri": "https://localhost:8080/"
        }
      },
      "outputs": [
        {
          "output_type": "execute_result",
          "data": {
            "text/plain": [
              "0.9402985074626866"
            ]
          },
          "metadata": {},
          "execution_count": 91
        }
      ],
      "source": [
        "accuracy_score(train_y, pred_train)  "
      ]
    },
    {
      "cell_type": "code",
      "execution_count": 92,
      "metadata": {
        "id": "uggvsMyPeg6O"
      },
      "outputs": [],
      "source": [
        "pred_test = model.predict(test_x)  "
      ]
    },
    {
      "cell_type": "code",
      "execution_count": 93,
      "metadata": {
        "id": "MEqkD0g0eg6O",
        "outputId": "c3102fbc-961f-4479-a826-068a2a0c3184",
        "colab": {
          "base_uri": "https://localhost:8080/"
        }
      },
      "outputs": [
        {
          "output_type": "execute_result",
          "data": {
            "text/plain": [
              "array([ True,  True,  True,  True,  True,  True,  True,  True,  True,\n",
              "        True, False, False, False,  True,  True,  True, False, False,\n",
              "       False,  True,  True,  True,  True,  True,  True,  True,  True,\n",
              "        True,  True,  True,  True, False,  True])"
            ]
          },
          "metadata": {},
          "execution_count": 93
        }
      ],
      "source": [
        "test_y == pred_test  "
      ]
    },
    {
      "cell_type": "code",
      "execution_count": 94,
      "metadata": {
        "id": "0kTQxkwkeg6P",
        "outputId": "c1e809b4-d250-4f86-9a31-c49411239d9e",
        "colab": {
          "base_uri": "https://localhost:8080/"
        }
      },
      "outputs": [
        {
          "output_type": "execute_result",
          "data": {
            "text/plain": [
              "0.7878787878787878"
            ]
          },
          "metadata": {},
          "execution_count": 94
        }
      ],
      "source": [
        "accuracy_score(test_y, pred_test)  "
      ]
    },
    {
      "cell_type": "code",
      "execution_count": 95,
      "metadata": {
        "id": "h1Aes0oreg6P"
      },
      "outputs": [],
      "source": [
        "test_c = test_x[test_y == pred_test]\n",
        "test_f = test_x[test_y != pred_test]"
      ]
    },
    {
      "cell_type": "code",
      "execution_count": 96,
      "metadata": {
        "id": "hg1wnMPYeg6P",
        "outputId": "f5c79a6b-40a9-4829-db54-d8ef3d6f7967",
        "colab": {
          "base_uri": "https://localhost:8080/",
          "height": 373
        }
      },
      "outputs": [
        {
          "output_type": "display_data",
          "data": {
            "text/plain": [
              "<Figure size 720x432 with 1 Axes>"
            ],
            "image/png": "[encoded data removed]"
          },
          "metadata": {
            "needs_background": "light"
          }
        }
      ],
      "source": [
        "plt.figure(figsize=(10, 6))\n",
        "plt.scatter(x=test_c[:, 0], y=test_c[:, 1], c=test_y[test_y == pred_test],\n",
        "            marker='o', cmap='coolwarm')\n",
        "plt.scatter(x=test_f[:, 0], y=test_f[:, 1], c=test_y[test_y != pred_test],\n",
        "            marker='x', cmap='coolwarm');\n",
        "# plt.savefig('../../images/ch13/ml_plot_07.png');"
      ]
    },
    {
      "cell_type": "code",
      "execution_count": 97,
      "metadata": {
        "id": "gPFEry0Xeg6P"
      },
      "outputs": [],
      "source": [
        "bins = np.linspace(-4.5, 4.5, 50)"
      ]
    },
    {
      "cell_type": "code",
      "execution_count": 98,
      "metadata": {
        "id": "1Dbgdnkheg6P"
      },
      "outputs": [],
      "source": [
        "Xd = np.digitize(X, bins=bins)"
      ]
    },
    {
      "cell_type": "code",
      "execution_count": 99,
      "metadata": {
        "id": "mLpHpaqAeg6Q",
        "outputId": "06337e6a-ad73-4a83-a385-74ad83ce1e7f",
        "colab": {
          "base_uri": "https://localhost:8080/"
        }
      },
      "outputs": [
        {
          "output_type": "execute_result",
          "data": {
            "text/plain": [
              "array([[34, 21],\n",
              "       [23, 21],\n",
              "       [17, 18],\n",
              "       [31, 15],\n",
              "       [25, 29]])"
            ]
          },
          "metadata": {},
          "execution_count": 99
        }
      ],
      "source": [
        "Xd[:5]"
      ]
    },
    {
      "cell_type": "code",
      "execution_count": 100,
      "metadata": {
        "id": "mhMGSdvceg6Q"
      },
      "outputs": [],
      "source": [
        "train_x, test_x, train_y, test_y = train_test_split(Xd, y, test_size=0.33,\n",
        "                                                    random_state=0)"
      ]
    },
    {
      "cell_type": "code",
      "execution_count": 101,
      "metadata": {
        "id": "KOPkFxrSeg6Q",
        "outputId": "3939a555-1c82-41f9-9ed6-55e3d45571c2",
        "colab": {
          "base_uri": "https://localhost:8080/"
        }
      },
      "outputs": [
        {
          "output_type": "stream",
          "name": "stdout",
          "text": [
            "  kernel | accuracy\n",
            "--------------------\n",
            "  linear |    0.848\n",
            "    poly |    0.818\n",
            "     rbf |    0.788\n",
            " sigmoid |    0.455\n"
          ]
        }
      ],
      "source": [
        "print('{:>8s} | {:8s}'.format('kernel', 'accuracy'))\n",
        "print(20 * '-')\n",
        "for kernel in ['linear', 'poly', 'rbf', 'sigmoid']:\n",
        "    model = SVC(C=1, kernel=kernel)\n",
        "    model.fit(train_x, train_y)\n",
        "    acc = accuracy_score(test_y, model.predict(test_x))\n",
        "    print('{:>8s} | {:8.3f}'.format(kernel, acc))"
      ]
    },
    {
      "cell_type": "markdown",
      "metadata": {
        "id": "Cxt3zldceg6Q"
      },
      "source": [
        "<img src=\"http://hilpisch.com/tpq_logo.png\" alt=\"The Python Quants\" width=\"35%\" align=\"right\" border=\"0\"><br>\n",
        "\n",
        "<a href=\"http://tpq.io\" target=\"_blank\">http://tpq.io</a> | <a href=\"http://twitter.com/dyjh\" target=\"_blank\">@dyjh</a> | <a href=\"mailto:training@tpq.io\">training@tpq.io</a>"
      ]
    }
  ],
  "metadata": {
    "anaconda-cloud": {},
    "kernelspec": {
      "display_name": "Python 3 (ipykernel)",
      "language": "python",
      "name": "python3"
    },
    "language_info": {
      "codemirror_mode": {
        "name": "ipython",
        "version": 3
      },
      "file_extension": ".py",
      "mimetype": "text/x-python",
      "name": "python",
      "nbconvert_exporter": "python",
      "pygments_lexer": "ipython3",
      "version": "3.10.4"
    },
    "colab": {
      "name": "13_c_machine_learning.ipynb",
      "provenance": [],
      "include_colab_link": true
    }
  },
  "nbformat": 4,
  "nbformat_minor": 0
}